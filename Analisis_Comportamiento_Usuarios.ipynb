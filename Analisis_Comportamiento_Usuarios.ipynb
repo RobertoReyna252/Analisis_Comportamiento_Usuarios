{
 "cells": [
  {
   "cell_type": "markdown",
   "metadata": {},
   "source": [
    "**Link Google Driver del Proyecto:** https://drive.google.com/drive/folders/1MVkmphXLYA8M1CF5vrnh6te346lSUwnQ?usp=sharing"
   ]
  },
  {
   "cell_type": "markdown",
   "metadata": {},
   "source": [
    "# Proyecto: Aplicaciones móviles - Segmentación de usuarios y usuarias en función del comportamiento¶"
   ]
  },
  {
   "cell_type": "markdown",
   "metadata": {},
   "source": [
    "## Objetivo del Proyecto\n",
    "\n",
    "Determinar grupos de usuarios y usuarias que difieren en términos de métricas del producto utilizando datos de eventos en una aplicación móvil, y formular y probar hipótesis estadísticas basadas en estos datos."
   ]
  },
  {
   "cell_type": "markdown",
   "metadata": {},
   "source": [
    "**Objetivo:**\n",
    "\n",
    "Segmentar a los usuarios y las usuarias en función de los eventos que completan en la aplicación móvil y formular hipótesis estadísticas sobre las diferencias en métricas clave.\n",
    "\n",
    "**Beneficiario:**\n",
    "\n",
    "Equipo de Producto y Marketing.\n",
    "\n",
    "**Decisiones:**\n",
    "\n",
    "Estrategias de mejora de retención, optimización de la experiencia del usuario, y estrategias de adquisición de usuarios."
   ]
  },
  {
   "cell_type": "markdown",
   "metadata": {},
   "source": [
    "**Fuentes de Datos:**"
   ]
  },
  {
   "cell_type": "code",
   "execution_count": 1,
   "metadata": {},
   "outputs": [],
   "source": [
    "#Librerias\n",
    "import pandas as pd\n",
    "import matplotlib.pyplot as plt\n",
    "import seaborn as sns\n",
    "import numpy as np\n",
    "from sklearn.decomposition import PCA\n",
    "from sklearn.cluster import KMeans\n",
    "from scipy.stats import ttest_ind, mannwhitneyu\n",
    "\n",
    "# Cargar datos\n",
    "mobile_data = pd.read_csv('/datasets/mobile_dataset_us.csv')\n",
    "mobile_sources = pd.read_csv('/datasets/mobile_sources_us.csv')"
   ]
  },
  {
   "cell_type": "code",
   "execution_count": 2,
   "metadata": {},
   "outputs": [
    {
     "name": "stdout",
     "output_type": "stream",
     "text": [
      "<class 'pandas.core.frame.DataFrame'>\n",
      "RangeIndex: 74197 entries, 0 to 74196\n",
      "Data columns (total 3 columns):\n",
      " #   Column      Non-Null Count  Dtype \n",
      "---  ------      --------------  ----- \n",
      " 0   event.time  74197 non-null  object\n",
      " 1   event.name  74197 non-null  object\n",
      " 2   user.id     74197 non-null  object\n",
      "dtypes: object(3)\n",
      "memory usage: 1.7+ MB\n"
     ]
    },
    {
     "data": {
      "text/html": [
       "<div>\n",
       "<style scoped>\n",
       "    .dataframe tbody tr th:only-of-type {\n",
       "        vertical-align: middle;\n",
       "    }\n",
       "\n",
       "    .dataframe tbody tr th {\n",
       "        vertical-align: top;\n",
       "    }\n",
       "\n",
       "    .dataframe thead th {\n",
       "        text-align: right;\n",
       "    }\n",
       "</style>\n",
       "<table border=\"1\" class=\"dataframe\">\n",
       "  <thead>\n",
       "    <tr style=\"text-align: right;\">\n",
       "      <th></th>\n",
       "      <th>event.time</th>\n",
       "      <th>event.name</th>\n",
       "      <th>user.id</th>\n",
       "    </tr>\n",
       "  </thead>\n",
       "  <tbody>\n",
       "    <tr>\n",
       "      <th>0</th>\n",
       "      <td>2019-10-07 00:00:00.431357</td>\n",
       "      <td>advert_open</td>\n",
       "      <td>020292ab-89bc-4156-9acf-68bc2783f894</td>\n",
       "    </tr>\n",
       "    <tr>\n",
       "      <th>1</th>\n",
       "      <td>2019-10-07 00:00:01.236320</td>\n",
       "      <td>tips_show</td>\n",
       "      <td>020292ab-89bc-4156-9acf-68bc2783f894</td>\n",
       "    </tr>\n",
       "    <tr>\n",
       "      <th>2</th>\n",
       "      <td>2019-10-07 00:00:02.245341</td>\n",
       "      <td>tips_show</td>\n",
       "      <td>cf7eda61-9349-469f-ac27-e5b6f5ec475c</td>\n",
       "    </tr>\n",
       "    <tr>\n",
       "      <th>3</th>\n",
       "      <td>2019-10-07 00:00:07.039334</td>\n",
       "      <td>tips_show</td>\n",
       "      <td>020292ab-89bc-4156-9acf-68bc2783f894</td>\n",
       "    </tr>\n",
       "    <tr>\n",
       "      <th>4</th>\n",
       "      <td>2019-10-07 00:00:56.319813</td>\n",
       "      <td>advert_open</td>\n",
       "      <td>cf7eda61-9349-469f-ac27-e5b6f5ec475c</td>\n",
       "    </tr>\n",
       "  </tbody>\n",
       "</table>\n",
       "</div>"
      ],
      "text/plain": [
       "                   event.time   event.name  \\\n",
       "0  2019-10-07 00:00:00.431357  advert_open   \n",
       "1  2019-10-07 00:00:01.236320    tips_show   \n",
       "2  2019-10-07 00:00:02.245341    tips_show   \n",
       "3  2019-10-07 00:00:07.039334    tips_show   \n",
       "4  2019-10-07 00:00:56.319813  advert_open   \n",
       "\n",
       "                                user.id  \n",
       "0  020292ab-89bc-4156-9acf-68bc2783f894  \n",
       "1  020292ab-89bc-4156-9acf-68bc2783f894  \n",
       "2  cf7eda61-9349-469f-ac27-e5b6f5ec475c  \n",
       "3  020292ab-89bc-4156-9acf-68bc2783f894  \n",
       "4  cf7eda61-9349-469f-ac27-e5b6f5ec475c  "
      ]
     },
     "execution_count": 2,
     "metadata": {},
     "output_type": "execute_result"
    }
   ],
   "source": [
    "# Mostrar las primeras filas del DataFrame\n",
    "mobile_data.info()\n",
    "mobile_data.head()"
   ]
  },
  {
   "cell_type": "code",
   "execution_count": 3,
   "metadata": {},
   "outputs": [
    {
     "name": "stdout",
     "output_type": "stream",
     "text": [
      "<class 'pandas.core.frame.DataFrame'>\n",
      "RangeIndex: 4293 entries, 0 to 4292\n",
      "Data columns (total 2 columns):\n",
      " #   Column  Non-Null Count  Dtype \n",
      "---  ------  --------------  ----- \n",
      " 0   userId  4293 non-null   object\n",
      " 1   source  4293 non-null   object\n",
      "dtypes: object(2)\n",
      "memory usage: 67.2+ KB\n"
     ]
    },
    {
     "data": {
      "text/html": [
       "<div>\n",
       "<style scoped>\n",
       "    .dataframe tbody tr th:only-of-type {\n",
       "        vertical-align: middle;\n",
       "    }\n",
       "\n",
       "    .dataframe tbody tr th {\n",
       "        vertical-align: top;\n",
       "    }\n",
       "\n",
       "    .dataframe thead th {\n",
       "        text-align: right;\n",
       "    }\n",
       "</style>\n",
       "<table border=\"1\" class=\"dataframe\">\n",
       "  <thead>\n",
       "    <tr style=\"text-align: right;\">\n",
       "      <th></th>\n",
       "      <th>userId</th>\n",
       "      <th>source</th>\n",
       "    </tr>\n",
       "  </thead>\n",
       "  <tbody>\n",
       "    <tr>\n",
       "      <th>0</th>\n",
       "      <td>020292ab-89bc-4156-9acf-68bc2783f894</td>\n",
       "      <td>other</td>\n",
       "    </tr>\n",
       "    <tr>\n",
       "      <th>1</th>\n",
       "      <td>cf7eda61-9349-469f-ac27-e5b6f5ec475c</td>\n",
       "      <td>bing</td>\n",
       "    </tr>\n",
       "    <tr>\n",
       "      <th>2</th>\n",
       "      <td>8c356c42-3ba9-4cb6-80b8-3f868d0192c3</td>\n",
       "      <td>bing</td>\n",
       "    </tr>\n",
       "    <tr>\n",
       "      <th>3</th>\n",
       "      <td>d9b06b47-0f36-419b-bbb0-3533e582a6cb</td>\n",
       "      <td>other</td>\n",
       "    </tr>\n",
       "    <tr>\n",
       "      <th>4</th>\n",
       "      <td>f32e1e2a-3027-4693-b793-b7b3ff274439</td>\n",
       "      <td>google</td>\n",
       "    </tr>\n",
       "  </tbody>\n",
       "</table>\n",
       "</div>"
      ],
      "text/plain": [
       "                                 userId  source\n",
       "0  020292ab-89bc-4156-9acf-68bc2783f894   other\n",
       "1  cf7eda61-9349-469f-ac27-e5b6f5ec475c    bing\n",
       "2  8c356c42-3ba9-4cb6-80b8-3f868d0192c3    bing\n",
       "3  d9b06b47-0f36-419b-bbb0-3533e582a6cb   other\n",
       "4  f32e1e2a-3027-4693-b793-b7b3ff274439  google"
      ]
     },
     "execution_count": 3,
     "metadata": {},
     "output_type": "execute_result"
    }
   ],
   "source": [
    "# Mostrar las primeras filas del DataFrame\n",
    "mobile_sources.info()\n",
    "mobile_sources.head()"
   ]
  },
  {
   "cell_type": "markdown",
   "metadata": {},
   "source": [
    "### Preprocesamiento de Datos"
   ]
  },
  {
   "cell_type": "markdown",
   "metadata": {},
   "source": [
    "### Segmentación de Usuarios"
   ]
  },
  {
   "cell_type": "markdown",
   "metadata": {},
   "source": [
    "**Estudio de Valores Ausentes**"
   ]
  },
  {
   "cell_type": "code",
   "execution_count": 4,
   "metadata": {},
   "outputs": [
    {
     "name": "stdout",
     "output_type": "stream",
     "text": [
      "Valores ausentes en mobile_data:\n",
      "event.time    0\n",
      "event.name    0\n",
      "user.id       0\n",
      "dtype: int64\n",
      "\n",
      "Valores ausentes en mobile_sources:\n",
      "userId    0\n",
      "source    0\n",
      "dtype: int64\n"
     ]
    }
   ],
   "source": [
    "# Identificar valores ausentes en cada columna\n",
    "print(\"Valores ausentes en mobile_data:\")\n",
    "print(mobile_data.isnull().sum())\n",
    "\n",
    "print(\"\\nValores ausentes en mobile_sources:\")\n",
    "print(mobile_sources.isnull().sum())"
   ]
  },
  {
   "cell_type": "markdown",
   "metadata": {},
   "source": [
    "**Estudio de Tipos de Datos**"
   ]
  },
  {
   "cell_type": "code",
   "execution_count": 5,
   "metadata": {},
   "outputs": [
    {
     "name": "stdout",
     "output_type": "stream",
     "text": [
      "event.time    datetime64[ns]\n",
      "event.name            object\n",
      "user.id               object\n",
      "dtype: object\n"
     ]
    }
   ],
   "source": [
    "# Convertir 'event.time' a datetime\n",
    "mobile_data['event.time'] = pd.to_datetime(mobile_data['event.time'])\n",
    "\n",
    "# Mostrar los tipos de datos para revisar\n",
    "print(mobile_data.dtypes)"
   ]
  },
  {
   "cell_type": "code",
   "execution_count": 6,
   "metadata": {},
   "outputs": [
    {
     "name": "stdout",
     "output_type": "stream",
     "text": [
      "                          event.time\n",
      "count                          74197\n",
      "mean   2019-10-21 15:32:09.039316992\n",
      "min       2019-10-07 00:00:00.431357\n",
      "25%    2019-10-14 22:04:27.791869952\n",
      "50%    2019-10-22 00:26:56.715014912\n",
      "75%    2019-10-28 12:35:53.023877120\n",
      "max       2019-11-03 23:58:12.532487\n"
     ]
    }
   ],
   "source": [
    "# Describir todas las columnas para las que se pueden calcular estadísticas descriptivas\n",
    "print(mobile_data.describe(datetime_is_numeric=True))\n",
    "\n",
    "# Estadísticas de fechas si 'event_time' es una columna de fecha\n",
    "if 'event_time' in mobile_data.columns:\n",
    "    print(\"Event time range: \", mobile_data['event_time'].min(), \"to\", mobile_data['event_time'].max())"
   ]
  },
  {
   "cell_type": "markdown",
   "metadata": {},
   "source": [
    "### Análisis Exploratorio de Datos (EDA)"
   ]
  },
  {
   "cell_type": "code",
   "execution_count": 7,
   "metadata": {},
   "outputs": [
    {
     "data": {
      "image/png": "[encoded data removed]",
      "text/plain": [
       "<Figure size 1000x600 with 1 Axes>"
      ]
     },
     "metadata": {},
     "output_type": "display_data"
    }
   ],
   "source": [
    "# Extraer la hora del día de 'event_time'\n",
    "mobile_data['hour_of_day'] = mobile_data['event.time'].dt.hour\n",
    "\n",
    "#histograma de las horas del día\n",
    "plt.figure(figsize=(10, 6))\n",
    "plt.hist(mobile_data['hour_of_day'], bins=24, color='blue', alpha=0.7)\n",
    "plt.title('Distribución de Eventos por Hora del Día')\n",
    "plt.xlabel('Hora del Día')\n",
    "plt.ylabel('Cantidad de Eventos')\n",
    "plt.xticks(range(0, 24))\n",
    "plt.grid(True)\n",
    "plt.show()"
   ]
  },
  {
   "cell_type": "markdown",
   "metadata": {},
   "source": [
    "**Baja Actividad Nocturna:** Muy pocos eventos ocurren entre la medianoche y las 6 AM, lo que sugiere que la mayoría de los usuarios están inactivos durante estas horas.\n",
    "\n",
    "**Incremento en la Mañana:** Hay un aumento notable en la actividad a partir de las 6 AM, con un pico moderado alrededor de las 8-9 AM, posiblemente indicando el uso de la aplicación durante las horas de inicio del día o el traslado matutino.\n",
    "\n",
    "**Pico Principal en la Noche:** La actividad alcanza su máximo entre las 21 y las 22 horas, lo que puede reflejar un uso intensivo durante el tiempo de ocio nocturno.\n"
   ]
  },
  {
   "cell_type": "code",
   "execution_count": 8,
   "metadata": {},
   "outputs": [
    {
     "data": {
      "image/png": "[encoded data removed]",
      "text/plain": [
       "<Figure size 1200x600 with 1 Axes>"
      ]
     },
     "metadata": {},
     "output_type": "display_data"
    }
   ],
   "source": [
    "# Conteo de frecuencia de cada tipo de evento\n",
    "event_counts = mobile_data['event.name'].value_counts()\n",
    "\n",
    "# Crear un histograma para los eventos\n",
    "plt.figure(figsize=(12, 6))\n",
    "event_counts.plot(kind='bar', color='blue')\n",
    "plt.title('Distribución de Tipos de Eventos')\n",
    "plt.xlabel('Tipo de Evento')\n",
    "plt.ylabel('Frecuencia')\n",
    "plt.xticks(rotation=45)\n",
    "plt.grid(True)\n",
    "plt.show()"
   ]
  },
  {
   "cell_type": "markdown",
   "metadata": {},
   "source": [
    "**Dominio de un Evento:** El evento tips_show domina claramente la actividad dentro de la aplicación, sugiriendo que los usuarios interactúan frecuentemente con elementos que probablemente ofrezcan consejos o recomendaciones.\n",
    "\n",
    "**Menor Frecuencia en Otros Eventos:**\n",
    "Eventos como advert_open (apertura de anuncios) y contacts_show (mostrar contactos) tienen una presencia notable pero significativamente menor en comparación con tips_show.\n",
    "\n",
    "Los eventos relacionados con búsquedas (search_1 hasta search_7) y otras interacciones específicas como favorites_add (agregar a favoritos) y photos_show (mostrar fotos) tienen frecuencias mucho más bajas.\n"
   ]
  },
  {
   "cell_type": "code",
   "execution_count": 9,
   "metadata": {},
   "outputs": [
    {
     "data": {
      "image/png": "[encoded data removed]",
      "text/plain": [
       "<Figure size 1000x600 with 1 Axes>"
      ]
     },
     "metadata": {},
     "output_type": "display_data"
    }
   ],
   "source": [
    "# Conteo de eventos por usuario\n",
    "user_event_counts = mobile_data['user.id'].value_counts()\n",
    "\n",
    "#diagrama de caja para la actividad de los usuarios\n",
    "plt.figure(figsize=(10, 6))\n",
    "plt.boxplot(user_event_counts, vert=False)\n",
    "plt.title('Distribución de Eventos por Usuario')\n",
    "plt.xlabel('Cantidad de Eventos')\n",
    "plt.grid(True)\n",
    "plt.show()"
   ]
  },
  {
   "cell_type": "markdown",
   "metadata": {},
   "source": [
    "**Distribución General:**\n",
    "La mayoría de los usuarios participan en una cantidad relativamente baja de eventos, como indica la caja compacta cerca del origen del eje X. Esto sugiere que la actividad típica por usuario no es muy alta.\n",
    "\n",
    "**Medidas de Tendencia Central y Dispersión:**\n",
    "La línea dentro de la caja, que representa la mediana, está bastante cerca del extremo inferior, indicando que más de la mitad de los usuarios tienen un número bajo de interacciones.\n",
    "\n",
    "La caja (que representa el rango intercuartílico o IQR) es estrecha, lo que implica que la mayoría de los usuarios se concentran en un rango limitado de actividad.\n"
   ]
  },
  {
   "cell_type": "markdown",
   "metadata": {},
   "source": [
    "**Análisis de Correlaciones:**"
   ]
  },
  {
   "cell_type": "code",
   "execution_count": 10,
   "metadata": {},
   "outputs": [],
   "source": [
    "# Convertir 'event.name' y 'user.id' a formato numérico usando la codificación de frecuencia\n",
    "event_frequency = mobile_data['event.name'].value_counts().to_dict()\n",
    "user_frequency = mobile_data['user.id'].value_counts().to_dict()\n",
    "\n",
    "mobile_data['event_name_freq'] = mobile_data['event.name'].map(event_frequency)\n",
    "mobile_data['user_id_freq'] = mobile_data['user.id'].map(user_frequency)\n"
   ]
  },
  {
   "cell_type": "code",
   "execution_count": 11,
   "metadata": {},
   "outputs": [],
   "source": [
    "# Renombrar la columna para el merge\n",
    "mobile_sources.rename(columns={'userId': 'user.id'}, inplace=True)\n",
    "\n",
    "combined_data = pd.merge(mobile_data, mobile_sources, on='user.id', how='left')"
   ]
  },
  {
   "cell_type": "code",
   "execution_count": 12,
   "metadata": {},
   "outputs": [],
   "source": [
    "# Codificación de frecuencia para 'source'\n",
    "source_frequency = combined_data['source'].value_counts().to_dict()\n",
    "combined_data['source_freq'] = combined_data['source'].map(source_frequency)"
   ]
  },
  {
   "cell_type": "code",
   "execution_count": 13,
   "metadata": {},
   "outputs": [
    {
     "data": {
      "image/png": "[encoded data removed]",
      "text/plain": [
       "<Figure size 800x600 with 2 Axes>"
      ]
     },
     "metadata": {},
     "output_type": "display_data"
    }
   ],
   "source": [
    "# Calcular la matriz de correlación\n",
    "correlation_matrix = combined_data[['event_name_freq', 'user_id_freq', 'source_freq']].corr()\n",
    "# Visualizar la matriz de correlación\n",
    "plt.figure(figsize=(8, 6))\n",
    "sns.heatmap(correlation_matrix, annot=True, cmap='coolwarm', fmt=\".2f\")\n",
    "plt.title('Matriz de Correlación entre Variables Clave')\n",
    "plt.show()"
   ]
  },
  {
   "cell_type": "markdown",
   "metadata": {},
   "source": [
    "### Segmentación de Usuarios"
   ]
  },
  {
   "cell_type": "code",
   "execution_count": 14,
   "metadata": {},
   "outputs": [],
   "source": [
    "# Agrupar por 'user.id' y contar la frecuencia de cada 'event.name'\n",
    "user_events = mobile_data.groupby(['user.id', 'event.name']).size().unstack(fill_value=0)\n",
    "\n",
    "# Normalizar los datos para que las diferencias en la cantidad de eventos no distorsionen el análisis\n",
    "from sklearn.preprocessing import StandardScaler\n",
    "scaler = StandardScaler()\n",
    "user_events_scaled = scaler.fit_transform(user_events)"
   ]
  },
  {
   "cell_type": "code",
   "execution_count": 15,
   "metadata": {},
   "outputs": [],
   "source": [
    "# Aplicar K-means\n",
    "kmeans = KMeans(n_clusters=5, random_state=42)  # Puedes ajustar el número de clusters\n",
    "clusters = kmeans.fit_predict(user_events_scaled)\n",
    "\n",
    "# Añadir la asignación de clusters de vuelta al DataFrame original\n",
    "user_events['Cluster'] = clusters"
   ]
  },
  {
   "cell_type": "markdown",
   "metadata": {},
   "source": [
    "**Visualización de Segmentos**"
   ]
  },
  {
   "cell_type": "code",
   "execution_count": 16,
   "metadata": {},
   "outputs": [
    {
     "data": {
      "image/png": "[encoded data removed]",
      "text/plain": [
       "<Figure size 1000x800 with 2 Axes>"
      ]
     },
     "metadata": {},
     "output_type": "display_data"
    }
   ],
   "source": [
    "pca = PCA(n_components=2)\n",
    "principal_components = pca.fit_transform(user_events_scaled)\n",
    "\n",
    "# Visualización\n",
    "plt.figure(figsize=(10, 8))\n",
    "plt.scatter(principal_components[:, 0], principal_components[:, 1], c=clusters, cmap='viridis', alpha=0.5)\n",
    "plt.xlabel('Componente Principal 1')\n",
    "plt.ylabel('Componente Principal 2')\n",
    "plt.title('Segmentación de Usuarios en la Aplicación')\n",
    "plt.colorbar(label='Cluster')\n",
    "plt.show()"
   ]
  },
  {
   "cell_type": "markdown",
   "metadata": {},
   "source": [
    "**Interpretación de los Clusters:**\n",
    "\n",
    "Los usuarios en diferentes clusters están dispersos principalmente a lo largo del Componente Principal 1, lo que sugiere que esta dimensión captura la variabilidad más significativa entre los usuarios.\n",
    "\n",
    "Los clusters muestran variación tanto en densidad como en distribución en el espacio de componentes principales, lo cual puede indicar diferencias fundamentales en los patrones de comportamiento."
   ]
  },
  {
   "cell_type": "markdown",
   "metadata": {},
   "source": [
    "**Características de los Segmentos:**"
   ]
  },
  {
   "cell_type": "code",
   "execution_count": 17,
   "metadata": {},
   "outputs": [
    {
     "name": "stdout",
     "output_type": "stream",
     "text": [
      "            contacts_show            favorites_add   tips_show  search_1\n",
      "        Frecuencia de Uso   Promedio      Promedio    Promedio  Promedio\n",
      "Cluster                                                                 \n",
      "0                      87   1.850575      0.494253   20.816092  0.000000\n",
      "1                    4004   0.633616      0.238012    7.431069  0.643357\n",
      "2                       1  84.000000      1.000000  195.000000  0.000000\n",
      "3                     101   5.346535      1.940594    1.455446  9.207921\n",
      "4                     100  11.280000      2.240000   81.480000  0.000000\n"
     ]
    }
   ],
   "source": [
    "# Calculando métricas clave por cluster\n",
    "metrics = user_events.groupby('Cluster').agg({\n",
    "    'contacts_show': ['count', 'mean'],  # Contar eventos y calcular la media para 'contacts_show'\n",
    "    'favorites_add': ['mean'],  # Promedio de adiciones a favoritos\n",
    "    'tips_show': ['mean'],  # Promedio de visualizaciones de consejos\n",
    "    'search_1': ['mean'],  # Promedio de uso de 'search_1', puedes agregar métricas similares para otras búsquedas\n",
    "}).rename(columns={\n",
    "    'count': 'Frecuencia de Uso',\n",
    "    'mean': 'Promedio'\n",
    "})\n",
    "\n",
    "print(metrics)"
   ]
  },
  {
   "cell_type": "code",
   "execution_count": 18,
   "metadata": {},
   "outputs": [
    {
     "data": {
      "image/png": "[encoded data removed]",
      "text/plain": [
       "<Figure size 1500x1500 with 6 Axes>"
      ]
     },
     "metadata": {},
     "output_type": "display_data"
    }
   ],
   "source": [
    "# Crear una figura más grande para acomodar mejor los subplots\n",
    "fig, axs = plt.subplots(3, 2, figsize=(15, 15))  # 3 filas, 2 columnas\n",
    "fig.subplots_adjust(hspace=0.4, wspace=0.4)  # Ajustar el espacio horizontal y vertical\n",
    "\n",
    "# Definir colores\n",
    "colors = ['blue', 'orange', 'green', 'red', 'purple', 'brown']\n",
    "\n",
    "# Gráfico para 'contacts_show' Total\n",
    "axs[0, 0].bar(user_events['Cluster'].unique(), user_events.groupby('Cluster')['contacts_show'].sum(), color=colors[0])\n",
    "axs[0, 0].set_title('Total contacts_show')\n",
    "axs[0, 0].set_xlabel('Cluster')\n",
    "axs[0, 0].set_ylabel('Total')\n",
    "\n",
    "# Gráfico para 'contacts_show' Promedio\n",
    "axs[0, 1].bar(user_events['Cluster'].unique(), user_events.groupby('Cluster')['contacts_show'].mean(), color=colors[1])\n",
    "axs[0, 1].set_title('Promedio de contacts_show')\n",
    "axs[0, 1].set_xlabel('Cluster')\n",
    "axs[0, 1].set_ylabel('Promedio')\n",
    "\n",
    "# Gráfico para 'favorites_add'\n",
    "axs[1, 0].bar(user_events['Cluster'].unique(), user_events.groupby('Cluster')['favorites_add'].mean(), color=colors[2])\n",
    "axs[1, 0].set_title('Promedio de favorites_add')\n",
    "axs[1, 0].set_xlabel('Cluster')\n",
    "axs[1, 0].set_ylabel('Promedio')\n",
    "\n",
    "# Gráfico para 'tips_show'\n",
    "axs[1, 1].bar(user_events['Cluster'].unique(), user_events.groupby('Cluster')['tips_show'].mean(), color=colors[3])\n",
    "axs[1, 1].set_title('Promedio de tips_show')\n",
    "axs[1, 1].set_xlabel('Cluster')\n",
    "axs[1, 1].set_ylabel('Promedio')\n",
    "\n",
    "# Gráfico para 'search_1'\n",
    "axs[2, 0].bar(user_events['Cluster'].unique(), user_events.groupby('Cluster')['search_1'].mean(), color=colors[4])\n",
    "axs[2, 0].set_title('Promedio de search_1')\n",
    "axs[2, 0].set_xlabel('Cluster')\n",
    "axs[2, 0].set_ylabel('Promedio')\n",
    "\n",
    "# Gráfico para 'advert_open'\n",
    "axs[2, 1].bar(user_events['Cluster'].unique(), user_events.groupby('Cluster')['advert_open'].mean(), color=colors[5])\n",
    "axs[2, 1].set_title('Promedio de advert_open')\n",
    "axs[2, 1].set_xlabel('Cluster')\n",
    "axs[2, 1].set_ylabel('Promedio')\n",
    "\n",
    "# Mostrar la figura\n",
    "plt.show()"
   ]
  },
  {
   "cell_type": "markdown",
   "metadata": {},
   "source": [
    "**Análisis y Estrategias Potenciales**\n",
    "\n",
    "**Personalización de Contenido:**\n",
    "\n",
    "Los datos sugieren que la personalización del contenido y las notificaciones basadas en los intereses específicos de cada cluster pueden mejorar la interacción del usuario. Por ejemplo, promover más activamente los contactos en el Cluster 1 y consejos en el Cluster 2.\n",
    "\n",
    "**Optimización de la Experiencia del Usuario:**\n",
    "\n",
    "Mejorar las características de búsqueda para el Cluster 3 y ofrecer recomendaciones personalizadas para añadir favoritos en los Clusters 3 y 4 podría aumentar la retención y satisfacción del usuario.\n",
    "\n",
    "**Marketing y Publicidad:**\n",
    "\n",
    "Dado que el Cluster 1 muestra una alta interacción con los anuncios, las campañas dirigidas podrían ser particularmente efectivas para este grupo."
   ]
  },
  {
   "cell_type": "markdown",
   "metadata": {},
   "source": [
    "### Prueba de Hipótesis"
   ]
  },
  {
   "cell_type": "markdown",
   "metadata": {},
   "source": [
    "#### Hipótesis 1:\n",
    "\n",
    "Diferencia en la conversión en vistas de información de contacto entre quienes descargaron la aplicación de bing y quienes la descargaron de google.\n",
    "Formular la hipótesis nula y alternativa.\n",
    "\n",
    "Utilizar pruebas estadísticas (prueba t, etc.) para probar la hipótesis."
   ]
  },
  {
   "cell_type": "code",
   "execution_count": 19,
   "metadata": {},
   "outputs": [
    {
     "name": "stdout",
     "output_type": "stream",
     "text": [
      "Prueba T: T-statistic = -0.9460292202070875 , P-value = 0.3442551322365214\n"
     ]
    }
   ],
   "source": [
    "# Combinar 'user_events' que ahora incluye 'contacts_show' con 'mobile_sources'\n",
    "combined_data = pd.merge(user_events, mobile_sources, on='user.id', how='left')\n",
    "\n",
    "# Segmentación por fuente\n",
    "bing_contacts = combined_data[combined_data['source'] == 'bing']['contacts_show']\n",
    "google_contacts = combined_data[combined_data['source'] == 'google']['contacts_show']\n",
    "\n",
    "# Asegurarse de que hay suficientes datos para realizar las pruebas\n",
    "if not bing_contacts.empty and not google_contacts.empty:\n",
    "    # Prueba T para muestras independientes\n",
    "    t_stat, p_val = ttest_ind(bing_contacts, google_contacts, equal_var=False)\n",
    "    print(\"Prueba T: T-statistic =\", t_stat, \", P-value =\", p_val)"
   ]
  },
  {
   "cell_type": "markdown",
   "metadata": {},
   "source": [
    "##### Hipótesis 2: \n",
    "\n",
    "Formular y probar una hipótesis adicional basada en los datos del dataset.\n",
    "Identificar una métrica o evento relevante.\n",
    "\n",
    "Formular la hipótesis nula y alternativa.\n",
    "\n",
    "Utilizar pruebas estadísticas apropiadas."
   ]
  },
  {
   "cell_type": "code",
   "execution_count": 20,
   "metadata": {},
   "outputs": [],
   "source": [
    "favorites_bing = combined_data[combined_data['source'] == 'bing']['favorites_add']\n",
    "favorites_google = combined_data[combined_data['source'] == 'google']['favorites_add']"
   ]
  },
  {
   "cell_type": "code",
   "execution_count": 21,
   "metadata": {},
   "outputs": [
    {
     "name": "stdout",
     "output_type": "stream",
     "text": [
      "Prueba T: T-statistic = 0.20852193984508371 , P-value = 0.8348354636665394\n"
     ]
    }
   ],
   "source": [
    "# Prueba T para muestras independientes\n",
    "if not favorites_bing.empty and not favorites_google.empty:\n",
    "    t_stat, p_val = ttest_ind(favorites_bing, favorites_google, equal_var=False)\n",
    "    print(\"Prueba T: T-statistic =\", t_stat, \", P-value =\", p_val)"
   ]
  },
  {
   "cell_type": "markdown",
   "metadata": {},
   "source": [
    "\n",
    "### Conclusión General\n",
    "\n",
    "El proyecto de segmentación de usuarios ha revelado insights valiosos sobre cómo diferentes grupos de usuarios interactúan con la aplicación. A través de una combinación de análisis estadísticos y técnicas de aprendizaje automático como K-means y PCA, hemos identificado segmentos de usuarios distintos que exhiben patrones de comportamiento únicos en cuanto a la interacción con eventos específicos de la aplicación.\n",
    "\n",
    "Los análisis de frecuencia y promedio de eventos como 'contacts_show', 'favorites_add', 'tips_show', entre otros, han permitido identificar segmentos que varían desde usuarios altamente activos y comprometidos hasta aquellos que utilizan la aplicación de manera más pasiva o específica.\n",
    "\n",
    "**Insights Clave**\n",
    "\n",
    "**Interacciones Diversas:** Los usuarios no interactúan homogéneamente con la aplicación. Algunos segmentos están más enfocados en buscar información y contactos, mientras que otros prefieren interactuar con contenido o añadir favoritos.\n",
    "\n",
    "**Comportamientos de Uso:** Determinados clusters muestran una alta actividad en áreas que podrían ser críticas para el modelo de negocio, como la visualización de anuncios y la interacción con consejos o contenidos destacados.\n",
    "\n",
    "**Diferencias en Engagement:** Clusters específicos como el Cluster 2 y Cluster 3 muestran niveles altos de engagement en funciones que podrían ser explotadas para aumentar la retención y la monetización.\n",
    "\n",
    "### Conclusión Final\n",
    "\n",
    "El proyecto no solo ha mejorado la comprensión de cómo diferentes usuarios interactúan con la aplicación, sino que también ha establecido una base sólida para mejorar la interacción del usuario, la retención y la conversión. Aprovechar estos insights para personalizar y optimizar la experiencia del usuario será crucial para el éxito continuo y la evolución de la aplicación."
   ]
  }
 ],
 "metadata": {
  "ExecuteTimeLog": [
   {
    "duration": 6047,
    "start_time": "2024-07-15T22:14:53.026Z"
   },
   {
    "duration": 143,
    "start_time": "2024-07-15T22:16:32.054Z"
   },
   {
    "duration": 25,
    "start_time": "2024-07-15T22:16:53.597Z"
   },
   {
    "duration": 108,
    "start_time": "2024-07-15T22:23:33.282Z"
   },
   {
    "duration": 10,
    "start_time": "2024-07-15T22:23:41.010Z"
   },
   {
    "duration": 11,
    "start_time": "2024-07-15T22:23:49.675Z"
   },
   {
    "duration": 9,
    "start_time": "2024-07-15T22:23:56.088Z"
   },
   {
    "duration": 4,
    "start_time": "2024-07-15T22:23:57.887Z"
   },
   {
    "duration": 97,
    "start_time": "2024-07-15T22:23:59.398Z"
   },
   {
    "duration": 10,
    "start_time": "2024-07-15T22:24:03.139Z"
   },
   {
    "duration": 10,
    "start_time": "2024-07-15T22:24:08.088Z"
   },
   {
    "duration": 10,
    "start_time": "2024-07-15T22:24:16.146Z"
   },
   {
    "duration": 25,
    "start_time": "2024-07-15T22:24:31.493Z"
   },
   {
    "duration": 32,
    "start_time": "2024-07-15T22:24:37.635Z"
   },
   {
    "duration": 19,
    "start_time": "2024-07-15T22:24:46.186Z"
   },
   {
    "duration": 16,
    "start_time": "2024-07-15T22:25:13.691Z"
   },
   {
    "duration": 16,
    "start_time": "2024-07-15T22:25:25.143Z"
   },
   {
    "duration": 17,
    "start_time": "2024-07-15T22:25:28.461Z"
   },
   {
    "duration": 19,
    "start_time": "2024-07-15T22:25:35.594Z"
   },
   {
    "duration": 17,
    "start_time": "2024-07-15T22:25:42.189Z"
   },
   {
    "duration": 5,
    "start_time": "2024-07-15T22:25:59.594Z"
   },
   {
    "duration": 7,
    "start_time": "2024-07-15T22:26:17.403Z"
   },
   {
    "duration": 29,
    "start_time": "2024-07-15T22:26:26.670Z"
   },
   {
    "duration": 24,
    "start_time": "2024-07-15T22:26:47.981Z"
   },
   {
    "duration": 5,
    "start_time": "2024-07-15T22:26:53.694Z"
   },
   {
    "duration": 15,
    "start_time": "2024-07-15T22:26:59.488Z"
   },
   {
    "duration": 884,
    "start_time": "2024-07-15T22:28:06.559Z"
   },
   {
    "duration": 365,
    "start_time": "2024-07-15T22:28:36.710Z"
   },
   {
    "duration": 355,
    "start_time": "2024-07-15T22:28:53.744Z"
   },
   {
    "duration": 345,
    "start_time": "2024-07-15T22:29:08.244Z"
   },
   {
    "duration": 1655,
    "start_time": "2024-07-15T22:29:34.994Z"
   },
   {
    "duration": 82,
    "start_time": "2024-07-15T22:30:12.192Z"
   },
   {
    "duration": 80,
    "start_time": "2024-07-15T22:30:15.517Z"
   },
   {
    "duration": 347,
    "start_time": "2024-07-15T22:30:20.025Z"
   },
   {
    "duration": 373,
    "start_time": "2024-07-15T22:33:49.693Z"
   },
   {
    "duration": 432,
    "start_time": "2024-07-15T22:34:19.806Z"
   },
   {
    "duration": 629,
    "start_time": "2024-07-15T22:34:41.069Z"
   },
   {
    "duration": 89,
    "start_time": "2024-07-15T22:34:56.068Z"
   },
   {
    "duration": 87,
    "start_time": "2024-07-15T22:35:04.219Z"
   },
   {
    "duration": 340,
    "start_time": "2024-07-15T22:36:27.832Z"
   },
   {
    "duration": 335,
    "start_time": "2024-07-15T22:36:37.699Z"
   },
   {
    "duration": 326,
    "start_time": "2024-07-15T22:36:43.089Z"
   },
   {
    "duration": 337,
    "start_time": "2024-07-15T22:36:50.979Z"
   },
   {
    "duration": 7,
    "start_time": "2024-07-15T22:37:12.933Z"
   },
   {
    "duration": 17,
    "start_time": "2024-07-15T22:37:34.039Z"
   },
   {
    "duration": 271,
    "start_time": "2024-07-15T22:37:46.076Z"
   },
   {
    "duration": 6,
    "start_time": "2024-07-15T22:38:39.122Z"
   },
   {
    "duration": 328,
    "start_time": "2024-07-15T22:38:51.372Z"
   },
   {
    "duration": 364,
    "start_time": "2024-07-15T22:39:32.718Z"
   },
   {
    "duration": 312,
    "start_time": "2024-07-15T22:39:39.331Z"
   },
   {
    "duration": 344,
    "start_time": "2024-07-15T22:39:43.954Z"
   },
   {
    "duration": 1384,
    "start_time": "2024-07-15T22:39:52.890Z"
   },
   {
    "duration": 40,
    "start_time": "2024-07-15T22:39:54.278Z"
   },
   {
    "duration": 21,
    "start_time": "2024-07-15T22:39:54.322Z"
   },
   {
    "duration": 17,
    "start_time": "2024-07-15T22:39:54.346Z"
   },
   {
    "duration": 6,
    "start_time": "2024-07-15T22:39:54.368Z"
   },
   {
    "duration": 26,
    "start_time": "2024-07-15T22:39:54.414Z"
   },
   {
    "duration": 6,
    "start_time": "2024-07-15T22:39:54.444Z"
   },
   {
    "duration": 388,
    "start_time": "2024-07-15T22:39:54.453Z"
   },
   {
    "duration": 345,
    "start_time": "2024-07-15T22:39:54.845Z"
   },
   {
    "duration": 422,
    "start_time": "2024-07-15T22:39:55.196Z"
   },
   {
    "duration": 1344,
    "start_time": "2024-07-15T22:39:55.621Z"
   },
   {
    "duration": 0,
    "start_time": "2024-07-15T22:39:56.969Z"
   },
   {
    "duration": 0,
    "start_time": "2024-07-15T22:39:56.970Z"
   },
   {
    "duration": 573,
    "start_time": "2024-07-15T22:40:48.264Z"
   },
   {
    "duration": 102,
    "start_time": "2024-07-15T22:40:50.871Z"
   },
   {
    "duration": 25,
    "start_time": "2024-07-15T22:41:54.110Z"
   },
   {
    "duration": 62,
    "start_time": "2024-07-15T22:41:54.230Z"
   },
   {
    "duration": 462,
    "start_time": "2024-07-15T22:42:13.742Z"
   },
   {
    "duration": 451,
    "start_time": "2024-07-15T22:42:32.028Z"
   },
   {
    "duration": 121,
    "start_time": "2024-07-15T22:42:40.271Z"
   },
   {
    "duration": 372,
    "start_time": "2024-07-15T22:42:43.722Z"
   },
   {
    "duration": 61,
    "start_time": "2024-07-15T22:43:27.400Z"
   },
   {
    "duration": 1744,
    "start_time": "2024-07-16T04:48:20.025Z"
   },
   {
    "duration": 103,
    "start_time": "2024-07-16T04:48:21.774Z"
   },
   {
    "duration": 19,
    "start_time": "2024-07-16T04:48:21.880Z"
   },
   {
    "duration": 43,
    "start_time": "2024-07-16T04:48:21.903Z"
   },
   {
    "duration": 9,
    "start_time": "2024-07-16T04:48:21.952Z"
   },
   {
    "duration": 27,
    "start_time": "2024-07-16T04:48:21.964Z"
   },
   {
    "duration": 36,
    "start_time": "2024-07-16T04:48:21.994Z"
   },
   {
    "duration": 361,
    "start_time": "2024-07-16T04:48:22.034Z"
   },
   {
    "duration": 337,
    "start_time": "2024-07-16T04:48:22.397Z"
   },
   {
    "duration": 459,
    "start_time": "2024-07-16T04:48:22.737Z"
   },
   {
    "duration": 130,
    "start_time": "2024-07-16T04:49:15.121Z"
   },
   {
    "duration": 38,
    "start_time": "2024-07-16T04:53:26.235Z"
   },
   {
    "duration": 29,
    "start_time": "2024-07-16T04:54:49.937Z"
   },
   {
    "duration": 24,
    "start_time": "2024-07-16T04:55:01.973Z"
   },
   {
    "duration": 368,
    "start_time": "2024-07-16T04:55:10.973Z"
   },
   {
    "duration": 436,
    "start_time": "2024-07-16T04:55:27.108Z"
   },
   {
    "duration": 229,
    "start_time": "2024-07-16T04:55:36.027Z"
   },
   {
    "duration": 1041,
    "start_time": "2024-07-16T04:55:38.167Z"
   },
   {
    "duration": 54,
    "start_time": "2024-07-16T04:55:48.503Z"
   },
   {
    "duration": 56,
    "start_time": "2024-07-16T04:55:51.352Z"
   },
   {
    "duration": 73,
    "start_time": "2024-07-16T04:56:10.456Z"
   },
   {
    "duration": 62,
    "start_time": "2024-07-16T04:56:13.029Z"
   },
   {
    "duration": 347,
    "start_time": "2024-07-16T04:56:25.989Z"
   },
   {
    "duration": 336,
    "start_time": "2024-07-16T04:56:38.500Z"
   },
   {
    "duration": 338,
    "start_time": "2024-07-16T04:58:41.320Z"
   },
   {
    "duration": 1561,
    "start_time": "2024-07-16T04:59:16.487Z"
   },
   {
    "duration": 109,
    "start_time": "2024-07-16T04:59:18.052Z"
   },
   {
    "duration": 24,
    "start_time": "2024-07-16T04:59:18.164Z"
   },
   {
    "duration": 43,
    "start_time": "2024-07-16T04:59:18.194Z"
   },
   {
    "duration": 11,
    "start_time": "2024-07-16T04:59:18.240Z"
   },
   {
    "duration": 30,
    "start_time": "2024-07-16T04:59:18.255Z"
   },
   {
    "duration": 6,
    "start_time": "2024-07-16T04:59:18.288Z"
   },
   {
    "duration": 57,
    "start_time": "2024-07-16T04:59:18.297Z"
   },
   {
    "duration": 22,
    "start_time": "2024-07-16T04:59:18.357Z"
   },
   {
    "duration": 377,
    "start_time": "2024-07-16T04:59:18.387Z"
   },
   {
    "duration": 374,
    "start_time": "2024-07-16T04:59:18.767Z"
   },
   {
    "duration": 360,
    "start_time": "2024-07-16T04:59:30.807Z"
   },
   {
    "duration": 23,
    "start_time": "2024-07-16T04:59:40.458Z"
   },
   {
    "duration": 356,
    "start_time": "2024-07-16T04:59:42.314Z"
   },
   {
    "duration": 236,
    "start_time": "2024-07-16T04:59:54.026Z"
   },
   {
    "duration": 24,
    "start_time": "2024-07-16T04:59:57.120Z"
   },
   {
    "duration": 24,
    "start_time": "2024-07-16T04:59:58.370Z"
   },
   {
    "duration": 231,
    "start_time": "2024-07-16T04:59:59.943Z"
   },
   {
    "duration": 1603,
    "start_time": "2024-07-16T05:00:05.470Z"
   },
   {
    "duration": 116,
    "start_time": "2024-07-16T05:00:07.077Z"
   },
   {
    "duration": 38,
    "start_time": "2024-07-16T05:00:07.197Z"
   },
   {
    "duration": 28,
    "start_time": "2024-07-16T05:00:07.239Z"
   },
   {
    "duration": 7,
    "start_time": "2024-07-16T05:00:07.273Z"
   },
   {
    "duration": 60,
    "start_time": "2024-07-16T05:00:07.284Z"
   },
   {
    "duration": 5,
    "start_time": "2024-07-16T05:00:07.347Z"
   },
   {
    "duration": 23,
    "start_time": "2024-07-16T05:00:07.355Z"
   },
   {
    "duration": 50,
    "start_time": "2024-07-16T05:00:07.380Z"
   },
   {
    "duration": 348,
    "start_time": "2024-07-16T05:00:07.434Z"
   },
   {
    "duration": 358,
    "start_time": "2024-07-16T05:00:07.785Z"
   },
   {
    "duration": 319,
    "start_time": "2024-07-16T05:00:24.269Z"
   },
   {
    "duration": 6,
    "start_time": "2024-07-16T05:00:29.497Z"
   },
   {
    "duration": 327,
    "start_time": "2024-07-16T05:01:59.568Z"
   },
   {
    "duration": 345,
    "start_time": "2024-07-16T05:02:06.316Z"
   },
   {
    "duration": 15,
    "start_time": "2024-07-16T05:07:33.580Z"
   },
   {
    "duration": 30,
    "start_time": "2024-07-16T05:07:33.600Z"
   },
   {
    "duration": 1257,
    "start_time": "2024-07-16T05:07:33.653Z"
   },
   {
    "duration": 0,
    "start_time": "2024-07-16T05:07:34.913Z"
   },
   {
    "duration": 24,
    "start_time": "2024-07-16T05:07:54.641Z"
   },
   {
    "duration": 33,
    "start_time": "2024-07-16T05:08:13.983Z"
   },
   {
    "duration": 7,
    "start_time": "2024-07-16T05:08:23.806Z"
   },
   {
    "duration": 8,
    "start_time": "2024-07-16T05:08:36.997Z"
   },
   {
    "duration": 17,
    "start_time": "2024-07-16T05:11:31.802Z"
   },
   {
    "duration": 82,
    "start_time": "2024-07-16T05:11:33.977Z"
   },
   {
    "duration": 169,
    "start_time": "2024-07-16T05:11:40.241Z"
   },
   {
    "duration": 1562,
    "start_time": "2024-07-16T05:11:53.498Z"
   },
   {
    "duration": 97,
    "start_time": "2024-07-16T05:11:55.064Z"
   },
   {
    "duration": 21,
    "start_time": "2024-07-16T05:11:55.164Z"
   },
   {
    "duration": 44,
    "start_time": "2024-07-16T05:11:55.189Z"
   },
   {
    "duration": 25,
    "start_time": "2024-07-16T05:11:55.237Z"
   },
   {
    "duration": 29,
    "start_time": "2024-07-16T05:12:01.252Z"
   },
   {
    "duration": 16,
    "start_time": "2024-07-16T05:13:32.890Z"
   },
   {
    "duration": 18,
    "start_time": "2024-07-16T05:13:36.275Z"
   },
   {
    "duration": 406,
    "start_time": "2024-07-16T05:15:46.453Z"
   },
   {
    "duration": 98,
    "start_time": "2024-07-16T05:16:47.254Z"
   },
   {
    "duration": 96,
    "start_time": "2024-07-16T05:16:50.712Z"
   },
   {
    "duration": 732,
    "start_time": "2024-07-16T05:16:52.625Z"
   },
   {
    "duration": 5,
    "start_time": "2024-07-16T05:18:14.716Z"
   },
   {
    "duration": 28,
    "start_time": "2024-07-16T05:18:20.854Z"
   },
   {
    "duration": 6,
    "start_time": "2024-07-16T05:18:24.826Z"
   },
   {
    "duration": 130,
    "start_time": "2024-07-16T05:18:28.359Z"
   },
   {
    "duration": 5,
    "start_time": "2024-07-16T05:18:32.307Z"
   },
   {
    "duration": 17,
    "start_time": "2024-07-16T05:18:42.005Z"
   },
   {
    "duration": 21,
    "start_time": "2024-07-16T05:19:03.043Z"
   },
   {
    "duration": 5,
    "start_time": "2024-07-16T05:19:06.317Z"
   },
   {
    "duration": 4,
    "start_time": "2024-07-16T05:19:10.794Z"
   },
   {
    "duration": 17,
    "start_time": "2024-07-16T05:19:14.101Z"
   },
   {
    "duration": 926,
    "start_time": "2024-07-16T05:19:28.706Z"
   },
   {
    "duration": 21,
    "start_time": "2024-07-16T05:19:41.510Z"
   },
   {
    "duration": 93,
    "start_time": "2024-07-16T05:20:30.243Z"
   },
   {
    "duration": 440,
    "start_time": "2024-07-16T05:20:36.915Z"
   },
   {
    "duration": 391,
    "start_time": "2024-07-16T05:21:30.322Z"
   },
   {
    "duration": 1409,
    "start_time": "2024-07-16T05:22:50.746Z"
   },
   {
    "duration": 37,
    "start_time": "2024-07-16T05:22:52.158Z"
   },
   {
    "duration": 44,
    "start_time": "2024-07-16T05:22:52.197Z"
   },
   {
    "duration": 25,
    "start_time": "2024-07-16T05:22:52.250Z"
   },
   {
    "duration": 59,
    "start_time": "2024-07-16T05:22:52.279Z"
   },
   {
    "duration": 21,
    "start_time": "2024-07-16T05:22:52.342Z"
   },
   {
    "duration": 423,
    "start_time": "2024-07-16T05:22:52.366Z"
   },
   {
    "duration": 404,
    "start_time": "2024-07-16T05:23:08.630Z"
   },
   {
    "duration": 278,
    "start_time": "2024-07-16T05:23:26.447Z"
   },
   {
    "duration": 212,
    "start_time": "2024-07-16T05:23:35.366Z"
   },
   {
    "duration": 42,
    "start_time": "2024-07-16T05:24:53.242Z"
   },
   {
    "duration": 6,
    "start_time": "2024-07-16T05:24:59.598Z"
   },
   {
    "duration": 357,
    "start_time": "2024-07-16T05:25:09.646Z"
   },
   {
    "duration": 34,
    "start_time": "2024-07-16T05:30:10.857Z"
   },
   {
    "duration": 6,
    "start_time": "2024-07-16T05:30:20.105Z"
   },
   {
    "duration": 4,
    "start_time": "2024-07-16T05:30:22.221Z"
   },
   {
    "duration": 29,
    "start_time": "2024-07-16T05:30:24.619Z"
   },
   {
    "duration": 28,
    "start_time": "2024-07-16T05:30:38.342Z"
   },
   {
    "duration": 31,
    "start_time": "2024-07-16T05:30:40.377Z"
   },
   {
    "duration": 39,
    "start_time": "2024-07-16T05:30:42.944Z"
   },
   {
    "duration": 405,
    "start_time": "2024-07-16T05:31:41.736Z"
   },
   {
    "duration": 7,
    "start_time": "2024-07-16T05:32:22.768Z"
   },
   {
    "duration": 197,
    "start_time": "2024-07-16T05:32:24.815Z"
   },
   {
    "duration": 203,
    "start_time": "2024-07-16T05:32:26.997Z"
   },
   {
    "duration": 356,
    "start_time": "2024-07-16T05:32:56.801Z"
   },
   {
    "duration": 410,
    "start_time": "2024-07-16T05:35:18.017Z"
   },
   {
    "duration": 45,
    "start_time": "2024-07-16T05:35:30.672Z"
   },
   {
    "duration": 30,
    "start_time": "2024-07-16T05:35:38.658Z"
   },
   {
    "duration": 36,
    "start_time": "2024-07-16T05:35:45.226Z"
   },
   {
    "duration": 22,
    "start_time": "2024-07-16T05:38:13.709Z"
   },
   {
    "duration": 36,
    "start_time": "2024-07-16T05:38:17.219Z"
   },
   {
    "duration": 24,
    "start_time": "2024-07-16T05:38:22.977Z"
   },
   {
    "duration": 18,
    "start_time": "2024-07-16T05:38:24.946Z"
   },
   {
    "duration": 481,
    "start_time": "2024-07-16T05:38:26.611Z"
   },
   {
    "duration": 5,
    "start_time": "2024-07-16T05:39:06.753Z"
   },
   {
    "duration": 28,
    "start_time": "2024-07-16T05:39:21.950Z"
   },
   {
    "duration": 6,
    "start_time": "2024-07-16T05:39:31.448Z"
   },
   {
    "duration": 4254,
    "start_time": "2024-07-16T05:44:13.952Z"
   },
   {
    "duration": 3386,
    "start_time": "2024-07-16T05:44:34.608Z"
   },
   {
    "duration": 173,
    "start_time": "2024-07-16T05:44:46.411Z"
   },
   {
    "duration": 414,
    "start_time": "2024-07-16T05:45:59.467Z"
   },
   {
    "duration": 64,
    "start_time": "2024-07-16T05:46:11.010Z"
   },
   {
    "duration": 40,
    "start_time": "2024-07-16T05:46:37.818Z"
   },
   {
    "duration": 48,
    "start_time": "2024-07-16T05:46:41.354Z"
   },
   {
    "duration": 405,
    "start_time": "2024-07-16T05:47:05.428Z"
   },
   {
    "duration": 433,
    "start_time": "2024-07-16T05:47:28.783Z"
   },
   {
    "duration": 2108,
    "start_time": "2024-07-16T05:48:04.962Z"
   },
   {
    "duration": 43,
    "start_time": "2024-07-16T05:48:07.074Z"
   },
   {
    "duration": 25,
    "start_time": "2024-07-16T05:48:07.134Z"
   },
   {
    "duration": 26,
    "start_time": "2024-07-16T05:48:07.163Z"
   },
   {
    "duration": 69,
    "start_time": "2024-07-16T05:48:07.198Z"
   },
   {
    "duration": 19,
    "start_time": "2024-07-16T05:48:07.270Z"
   },
   {
    "duration": 532,
    "start_time": "2024-07-16T05:48:07.292Z"
   },
   {
    "duration": 519,
    "start_time": "2024-07-16T05:48:07.832Z"
   },
   {
    "duration": 260,
    "start_time": "2024-07-16T05:48:08.355Z"
   },
   {
    "duration": 33,
    "start_time": "2024-07-16T05:48:08.618Z"
   },
   {
    "duration": 25,
    "start_time": "2024-07-16T05:48:08.655Z"
   },
   {
    "duration": 24,
    "start_time": "2024-07-16T05:48:08.684Z"
   },
   {
    "duration": 1416,
    "start_time": "2024-07-16T05:48:08.711Z"
   },
   {
    "duration": 0,
    "start_time": "2024-07-16T05:48:10.138Z"
   },
   {
    "duration": 37,
    "start_time": "2024-07-16T05:48:27.658Z"
   },
   {
    "duration": 81,
    "start_time": "2024-07-16T05:48:29.794Z"
   },
   {
    "duration": 1830,
    "start_time": "2024-07-16T05:48:43.029Z"
   },
   {
    "duration": 43,
    "start_time": "2024-07-16T05:48:44.864Z"
   },
   {
    "duration": 38,
    "start_time": "2024-07-16T05:48:44.910Z"
   },
   {
    "duration": 26,
    "start_time": "2024-07-16T05:48:44.951Z"
   },
   {
    "duration": 53,
    "start_time": "2024-07-16T05:48:44.981Z"
   },
   {
    "duration": 20,
    "start_time": "2024-07-16T05:48:45.036Z"
   },
   {
    "duration": 420,
    "start_time": "2024-07-16T05:48:45.059Z"
   },
   {
    "duration": 430,
    "start_time": "2024-07-16T05:48:45.481Z"
   },
   {
    "duration": 198,
    "start_time": "2024-07-16T05:48:45.914Z"
   },
   {
    "duration": 40,
    "start_time": "2024-07-16T05:48:46.116Z"
   },
   {
    "duration": 23,
    "start_time": "2024-07-16T05:48:46.159Z"
   },
   {
    "duration": 50,
    "start_time": "2024-07-16T05:48:46.185Z"
   },
   {
    "duration": 20,
    "start_time": "2024-07-16T05:48:46.238Z"
   },
   {
    "duration": 419,
    "start_time": "2024-07-16T05:48:46.263Z"
   },
   {
    "duration": 3451,
    "start_time": "2024-07-16T05:48:46.686Z"
   },
   {
    "duration": 5,
    "start_time": "2024-07-16T05:49:26.666Z"
   },
   {
    "duration": 35,
    "start_time": "2024-07-16T05:49:29.590Z"
   },
   {
    "duration": 35,
    "start_time": "2024-07-16T05:49:30.775Z"
   },
   {
    "duration": 665,
    "start_time": "2024-07-16T05:49:32.350Z"
   },
   {
    "duration": 1777,
    "start_time": "2024-07-16T05:49:38.728Z"
   },
   {
    "duration": 45,
    "start_time": "2024-07-16T05:49:40.510Z"
   },
   {
    "duration": 20,
    "start_time": "2024-07-16T05:49:40.563Z"
   },
   {
    "duration": 54,
    "start_time": "2024-07-16T05:49:40.588Z"
   },
   {
    "duration": 30,
    "start_time": "2024-07-16T05:49:40.648Z"
   },
   {
    "duration": 17,
    "start_time": "2024-07-16T05:49:40.680Z"
   },
   {
    "duration": 476,
    "start_time": "2024-07-16T05:49:40.701Z"
   },
   {
    "duration": 410,
    "start_time": "2024-07-16T05:49:41.180Z"
   },
   {
    "duration": 216,
    "start_time": "2024-07-16T05:49:41.593Z"
   },
   {
    "duration": 45,
    "start_time": "2024-07-16T05:49:41.812Z"
   },
   {
    "duration": 6,
    "start_time": "2024-07-16T05:49:41.860Z"
   },
   {
    "duration": 24,
    "start_time": "2024-07-16T05:49:41.869Z"
   },
   {
    "duration": 39,
    "start_time": "2024-07-16T05:49:41.898Z"
   },
   {
    "duration": 457,
    "start_time": "2024-07-16T05:49:41.940Z"
   },
   {
    "duration": 3330,
    "start_time": "2024-07-16T05:49:42.400Z"
   },
   {
    "duration": 576,
    "start_time": "2024-07-16T05:51:56.799Z"
   },
   {
    "duration": 39,
    "start_time": "2024-07-16T05:52:07.024Z"
   },
   {
    "duration": 328,
    "start_time": "2024-07-16T05:52:11.435Z"
   },
   {
    "duration": 760,
    "start_time": "2024-07-16T05:52:34.231Z"
   },
   {
    "duration": 332,
    "start_time": "2024-07-16T05:53:39.357Z"
   },
   {
    "duration": 6,
    "start_time": "2024-07-16T05:54:27.227Z"
   },
   {
    "duration": 5,
    "start_time": "2024-07-16T05:55:57.847Z"
   },
   {
    "duration": 79,
    "start_time": "2024-07-16T05:56:31.169Z"
   },
   {
    "duration": 28,
    "start_time": "2024-07-16T05:57:25.093Z"
   },
   {
    "duration": 860,
    "start_time": "2024-07-16T05:58:03.344Z"
   },
   {
    "duration": 26,
    "start_time": "2024-07-16T05:58:44.245Z"
   },
   {
    "duration": 8,
    "start_time": "2024-07-16T05:59:54.547Z"
   },
   {
    "duration": 7,
    "start_time": "2024-07-16T06:00:00.930Z"
   },
   {
    "duration": 21,
    "start_time": "2024-07-16T06:00:07.185Z"
   },
   {
    "duration": 898,
    "start_time": "2024-07-16T06:00:14.465Z"
   },
   {
    "duration": 1218,
    "start_time": "2024-07-16T06:00:27.717Z"
   },
   {
    "duration": 532,
    "start_time": "2024-07-16T06:00:32.949Z"
   },
   {
    "duration": 959,
    "start_time": "2024-07-16T06:00:37.921Z"
   },
   {
    "duration": 1081,
    "start_time": "2024-07-16T06:00:44.109Z"
   },
   {
    "duration": 786,
    "start_time": "2024-07-16T06:00:50.107Z"
   },
   {
    "duration": 917,
    "start_time": "2024-07-16T06:00:55.189Z"
   },
   {
    "duration": 1249,
    "start_time": "2024-07-16T06:01:00.468Z"
   },
   {
    "duration": 1338,
    "start_time": "2024-07-16T06:01:05.706Z"
   },
   {
    "duration": 1062,
    "start_time": "2024-07-16T06:02:19.916Z"
   },
   {
    "duration": 876,
    "start_time": "2024-07-16T06:03:49.177Z"
   },
   {
    "duration": 989,
    "start_time": "2024-07-16T06:03:54.856Z"
   },
   {
    "duration": 1819,
    "start_time": "2024-07-16T06:05:15.366Z"
   },
   {
    "duration": 33,
    "start_time": "2024-07-16T06:05:17.189Z"
   },
   {
    "duration": 23,
    "start_time": "2024-07-16T06:05:17.232Z"
   },
   {
    "duration": 26,
    "start_time": "2024-07-16T06:05:17.259Z"
   },
   {
    "duration": 56,
    "start_time": "2024-07-16T06:05:17.288Z"
   },
   {
    "duration": 16,
    "start_time": "2024-07-16T06:05:17.349Z"
   },
   {
    "duration": 427,
    "start_time": "2024-07-16T06:05:17.368Z"
   },
   {
    "duration": 399,
    "start_time": "2024-07-16T06:05:17.798Z"
   },
   {
    "duration": 226,
    "start_time": "2024-07-16T06:05:18.203Z"
   },
   {
    "duration": 39,
    "start_time": "2024-07-16T06:05:18.435Z"
   },
   {
    "duration": 5,
    "start_time": "2024-07-16T06:05:18.477Z"
   },
   {
    "duration": 53,
    "start_time": "2024-07-16T06:05:18.484Z"
   },
   {
    "duration": 26,
    "start_time": "2024-07-16T06:05:18.540Z"
   },
   {
    "duration": 474,
    "start_time": "2024-07-16T06:05:18.569Z"
   },
   {
    "duration": 42,
    "start_time": "2024-07-16T06:05:19.046Z"
   },
   {
    "duration": 357,
    "start_time": "2024-07-16T06:05:19.091Z"
   },
   {
    "duration": 884,
    "start_time": "2024-07-16T06:05:19.451Z"
   },
   {
    "duration": 26,
    "start_time": "2024-07-16T06:05:20.339Z"
   },
   {
    "duration": 1057,
    "start_time": "2024-07-16T06:05:20.368Z"
   },
   {
    "duration": 1149,
    "start_time": "2024-07-16T06:05:42.063Z"
   },
   {
    "duration": 1084,
    "start_time": "2024-07-16T06:05:51.816Z"
   },
   {
    "duration": 1038,
    "start_time": "2024-07-16T06:07:17.287Z"
   },
   {
    "duration": 1450,
    "start_time": "2024-07-16T06:09:44.335Z"
   },
   {
    "duration": 28,
    "start_time": "2024-07-16T06:09:52.932Z"
   },
   {
    "duration": 120,
    "start_time": "2024-07-16T06:10:13.294Z"
   },
   {
    "duration": 27,
    "start_time": "2024-07-16T06:10:20.518Z"
   },
   {
    "duration": 93,
    "start_time": "2024-07-16T06:11:50.013Z"
   },
   {
    "duration": 5,
    "start_time": "2024-07-16T06:12:39.606Z"
   },
   {
    "duration": 15,
    "start_time": "2024-07-16T06:13:49.278Z"
   },
   {
    "duration": 15,
    "start_time": "2024-07-16T06:13:52.673Z"
   },
   {
    "duration": 252,
    "start_time": "2024-07-16T06:13:58.591Z"
   },
   {
    "duration": 25,
    "start_time": "2024-07-16T06:14:11.133Z"
   },
   {
    "duration": 28,
    "start_time": "2024-07-16T06:16:00.479Z"
   },
   {
    "duration": 7,
    "start_time": "2024-07-16T06:16:22.616Z"
   },
   {
    "duration": 10,
    "start_time": "2024-07-16T06:17:19.734Z"
   },
   {
    "duration": 29,
    "start_time": "2024-07-16T06:17:41.414Z"
   },
   {
    "duration": 63,
    "start_time": "2024-07-16T06:18:41.446Z"
   },
   {
    "duration": 12,
    "start_time": "2024-07-16T06:18:48.566Z"
   },
   {
    "duration": 11,
    "start_time": "2024-07-16T06:21:17.601Z"
   },
   {
    "duration": 257,
    "start_time": "2024-07-16T06:22:50.311Z"
   },
   {
    "duration": 1840,
    "start_time": "2024-07-16T06:24:07.521Z"
   },
   {
    "duration": 42,
    "start_time": "2024-07-16T06:24:09.366Z"
   },
   {
    "duration": 41,
    "start_time": "2024-07-16T06:24:09.411Z"
   },
   {
    "duration": 26,
    "start_time": "2024-07-16T06:24:09.457Z"
   },
   {
    "duration": 43,
    "start_time": "2024-07-16T06:24:09.487Z"
   },
   {
    "duration": 16,
    "start_time": "2024-07-16T06:24:09.534Z"
   },
   {
    "duration": 433,
    "start_time": "2024-07-16T06:24:09.554Z"
   },
   {
    "duration": 446,
    "start_time": "2024-07-16T06:24:09.992Z"
   },
   {
    "duration": 210,
    "start_time": "2024-07-16T06:24:10.441Z"
   },
   {
    "duration": 36,
    "start_time": "2024-07-16T06:24:10.654Z"
   },
   {
    "duration": 5,
    "start_time": "2024-07-16T06:24:10.693Z"
   },
   {
    "duration": 47,
    "start_time": "2024-07-16T06:24:10.702Z"
   },
   {
    "duration": 19,
    "start_time": "2024-07-16T06:24:10.751Z"
   },
   {
    "duration": 421,
    "start_time": "2024-07-16T06:24:10.775Z"
   },
   {
    "duration": 58,
    "start_time": "2024-07-16T06:24:11.201Z"
   },
   {
    "duration": 691,
    "start_time": "2024-07-16T06:24:11.262Z"
   },
   {
    "duration": 854,
    "start_time": "2024-07-16T06:24:11.957Z"
   },
   {
    "duration": 26,
    "start_time": "2024-07-16T06:24:12.814Z"
   },
   {
    "duration": 1048,
    "start_time": "2024-07-16T06:24:12.844Z"
   },
   {
    "duration": 1371,
    "start_time": "2024-07-16T06:24:13.896Z"
   },
   {
    "duration": 3,
    "start_time": "2024-07-16T06:25:11.470Z"
   },
   {
    "duration": 27,
    "start_time": "2024-07-16T06:25:13.494Z"
   },
   {
    "duration": 30,
    "start_time": "2024-07-16T06:25:15.439Z"
   },
   {
    "duration": 391,
    "start_time": "2024-07-16T06:25:26.915Z"
   },
   {
    "duration": 102,
    "start_time": "2024-07-16T06:25:50.294Z"
   },
   {
    "duration": 102,
    "start_time": "2024-07-16T06:25:52.771Z"
   },
   {
    "duration": 23,
    "start_time": "2024-07-16T06:26:10.306Z"
   },
   {
    "duration": 51,
    "start_time": "2024-07-16T06:26:40.255Z"
   },
   {
    "duration": 127,
    "start_time": "2024-07-16T06:26:42.854Z"
   },
   {
    "duration": 97,
    "start_time": "2024-07-16T06:27:02.286Z"
   },
   {
    "duration": 109,
    "start_time": "2024-07-16T06:27:16.515Z"
   },
   {
    "duration": 91,
    "start_time": "2024-07-16T06:27:19.754Z"
   },
   {
    "duration": 116,
    "start_time": "2024-07-16T06:27:28.903Z"
   },
   {
    "duration": 32,
    "start_time": "2024-07-16T06:30:26.938Z"
   },
   {
    "duration": 15,
    "start_time": "2024-07-16T06:31:31.254Z"
   },
   {
    "duration": 1765,
    "start_time": "2024-07-16T06:32:27.015Z"
   },
   {
    "duration": 33,
    "start_time": "2024-07-16T06:32:28.784Z"
   },
   {
    "duration": 34,
    "start_time": "2024-07-16T06:32:28.820Z"
   },
   {
    "duration": 19,
    "start_time": "2024-07-16T06:32:28.856Z"
   },
   {
    "duration": 58,
    "start_time": "2024-07-16T06:32:28.882Z"
   },
   {
    "duration": 17,
    "start_time": "2024-07-16T06:32:28.944Z"
   },
   {
    "duration": 413,
    "start_time": "2024-07-16T06:32:28.966Z"
   },
   {
    "duration": 402,
    "start_time": "2024-07-16T06:32:29.382Z"
   },
   {
    "duration": 214,
    "start_time": "2024-07-16T06:32:29.788Z"
   },
   {
    "duration": 51,
    "start_time": "2024-07-16T06:32:30.006Z"
   },
   {
    "duration": 8,
    "start_time": "2024-07-16T06:32:30.060Z"
   },
   {
    "duration": 24,
    "start_time": "2024-07-16T06:32:30.071Z"
   },
   {
    "duration": 39,
    "start_time": "2024-07-16T06:32:30.099Z"
   },
   {
    "duration": 430,
    "start_time": "2024-07-16T06:32:30.144Z"
   },
   {
    "duration": 55,
    "start_time": "2024-07-16T06:32:30.577Z"
   },
   {
    "duration": 613,
    "start_time": "2024-07-16T06:32:30.638Z"
   },
   {
    "duration": 945,
    "start_time": "2024-07-16T06:32:31.254Z"
   },
   {
    "duration": 30,
    "start_time": "2024-07-16T06:32:32.202Z"
   },
   {
    "duration": 1061,
    "start_time": "2024-07-16T06:32:32.241Z"
   },
   {
    "duration": 1390,
    "start_time": "2024-07-16T06:32:33.305Z"
   },
   {
    "duration": 13,
    "start_time": "2024-07-16T06:32:54.136Z"
   },
   {
    "duration": 23,
    "start_time": "2024-07-16T06:33:00.683Z"
   },
   {
    "duration": 21,
    "start_time": "2024-07-16T06:33:03.102Z"
   },
   {
    "duration": 106,
    "start_time": "2024-07-16T06:34:14.992Z"
   },
   {
    "duration": 86,
    "start_time": "2024-07-16T06:34:25.454Z"
   },
   {
    "duration": 79,
    "start_time": "2024-07-16T06:34:34.960Z"
   },
   {
    "duration": 1726,
    "start_time": "2024-07-16T06:34:51.294Z"
   },
   {
    "duration": 36,
    "start_time": "2024-07-16T06:34:53.027Z"
   },
   {
    "duration": 19,
    "start_time": "2024-07-16T06:34:53.066Z"
   },
   {
    "duration": 47,
    "start_time": "2024-07-16T06:34:53.089Z"
   },
   {
    "duration": 28,
    "start_time": "2024-07-16T06:34:53.141Z"
   },
   {
    "duration": 23,
    "start_time": "2024-07-16T06:34:53.173Z"
   },
   {
    "duration": 425,
    "start_time": "2024-07-16T06:34:53.201Z"
   },
   {
    "duration": 399,
    "start_time": "2024-07-16T06:34:53.632Z"
   },
   {
    "duration": 205,
    "start_time": "2024-07-16T06:34:54.034Z"
   },
   {
    "duration": 37,
    "start_time": "2024-07-16T06:34:54.245Z"
   },
   {
    "duration": 4,
    "start_time": "2024-07-16T06:34:54.285Z"
   },
   {
    "duration": 49,
    "start_time": "2024-07-16T06:34:54.293Z"
   },
   {
    "duration": 29,
    "start_time": "2024-07-16T06:34:54.345Z"
   },
   {
    "duration": 439,
    "start_time": "2024-07-16T06:34:54.380Z"
   },
   {
    "duration": 49,
    "start_time": "2024-07-16T06:34:54.822Z"
   },
   {
    "duration": 680,
    "start_time": "2024-07-16T06:34:54.873Z"
   },
   {
    "duration": 893,
    "start_time": "2024-07-16T06:34:55.556Z"
   },
   {
    "duration": 29,
    "start_time": "2024-07-16T06:34:56.452Z"
   },
   {
    "duration": 1026,
    "start_time": "2024-07-16T06:34:56.484Z"
   },
   {
    "duration": 1369,
    "start_time": "2024-07-16T06:34:57.515Z"
   },
   {
    "duration": 0,
    "start_time": "2024-07-16T06:34:58.887Z"
   },
   {
    "duration": 0,
    "start_time": "2024-07-16T06:34:58.889Z"
   },
   {
    "duration": 109,
    "start_time": "2024-07-16T06:35:03.897Z"
   },
   {
    "duration": 110,
    "start_time": "2024-07-16T06:36:21.656Z"
   },
   {
    "duration": 146,
    "start_time": "2024-07-16T06:36:45.834Z"
   },
   {
    "duration": 95,
    "start_time": "2024-07-16T06:37:02.303Z"
   },
   {
    "duration": 89,
    "start_time": "2024-07-16T06:37:46.450Z"
   },
   {
    "duration": 87,
    "start_time": "2024-07-16T06:37:53.965Z"
   },
   {
    "duration": 81,
    "start_time": "2024-07-16T06:37:57.665Z"
   },
   {
    "duration": 109,
    "start_time": "2024-07-16T06:38:00.998Z"
   },
   {
    "duration": 79,
    "start_time": "2024-07-16T06:38:29.492Z"
   },
   {
    "duration": 80,
    "start_time": "2024-07-16T06:44:00.713Z"
   },
   {
    "duration": 87,
    "start_time": "2024-07-16T06:47:24.319Z"
   },
   {
    "duration": 14,
    "start_time": "2024-07-16T06:47:46.381Z"
   },
   {
    "duration": 49,
    "start_time": "2024-07-16T06:47:52.377Z"
   },
   {
    "duration": 33,
    "start_time": "2024-07-16T06:48:14.765Z"
   },
   {
    "duration": 153,
    "start_time": "2024-07-16T06:49:17.555Z"
   },
   {
    "duration": 21,
    "start_time": "2024-07-16T06:49:20.807Z"
   },
   {
    "duration": 12,
    "start_time": "2024-07-16T06:49:28.940Z"
   },
   {
    "duration": 23,
    "start_time": "2024-07-16T06:49:52.427Z"
   },
   {
    "duration": 10,
    "start_time": "2024-07-16T06:50:30.600Z"
   },
   {
    "duration": 117,
    "start_time": "2024-07-16T06:51:55.316Z"
   },
   {
    "duration": 59,
    "start_time": "2024-07-16T06:52:09.658Z"
   },
   {
    "duration": 67,
    "start_time": "2024-07-16T06:52:18.572Z"
   },
   {
    "duration": 87,
    "start_time": "2024-07-16T06:52:35.557Z"
   },
   {
    "duration": 44,
    "start_time": "2024-07-16T06:52:39.663Z"
   },
   {
    "duration": 78,
    "start_time": "2024-07-16T06:52:46.076Z"
   },
   {
    "duration": 114,
    "start_time": "2024-07-16T06:52:49.104Z"
   },
   {
    "duration": 19,
    "start_time": "2024-07-16T06:52:51.993Z"
   },
   {
    "duration": 16,
    "start_time": "2024-07-16T06:52:58.778Z"
   },
   {
    "duration": 2110,
    "start_time": "2024-07-16T06:53:05.539Z"
   },
   {
    "duration": 49,
    "start_time": "2024-07-16T06:53:07.657Z"
   },
   {
    "duration": 39,
    "start_time": "2024-07-16T06:53:07.709Z"
   },
   {
    "duration": 26,
    "start_time": "2024-07-16T06:53:07.751Z"
   },
   {
    "duration": 54,
    "start_time": "2024-07-16T06:53:07.782Z"
   },
   {
    "duration": 17,
    "start_time": "2024-07-16T06:53:07.839Z"
   },
   {
    "duration": 611,
    "start_time": "2024-07-16T06:53:07.859Z"
   },
   {
    "duration": 528,
    "start_time": "2024-07-16T06:53:08.474Z"
   },
   {
    "duration": 273,
    "start_time": "2024-07-16T06:53:09.007Z"
   },
   {
    "duration": 77,
    "start_time": "2024-07-16T06:53:09.284Z"
   },
   {
    "duration": 6,
    "start_time": "2024-07-16T06:53:09.365Z"
   },
   {
    "duration": 56,
    "start_time": "2024-07-16T06:53:09.375Z"
   },
   {
    "duration": 28,
    "start_time": "2024-07-16T06:53:09.435Z"
   },
   {
    "duration": 511,
    "start_time": "2024-07-16T06:53:09.470Z"
   },
   {
    "duration": 63,
    "start_time": "2024-07-16T06:53:09.984Z"
   },
   {
    "duration": 482,
    "start_time": "2024-07-16T06:53:10.050Z"
   },
   {
    "duration": 747,
    "start_time": "2024-07-16T06:53:10.540Z"
   },
   {
    "duration": 28,
    "start_time": "2024-07-16T06:53:11.291Z"
   },
   {
    "duration": 1106,
    "start_time": "2024-07-16T06:53:11.330Z"
   },
   {
    "duration": 1406,
    "start_time": "2024-07-16T06:53:12.441Z"
   },
   {
    "duration": 0,
    "start_time": "2024-07-16T06:53:13.850Z"
   },
   {
    "duration": 0,
    "start_time": "2024-07-16T06:53:13.851Z"
   },
   {
    "duration": 0,
    "start_time": "2024-07-16T06:53:13.852Z"
   },
   {
    "duration": 0,
    "start_time": "2024-07-16T06:53:13.854Z"
   },
   {
    "duration": 0,
    "start_time": "2024-07-16T06:53:13.856Z"
   },
   {
    "duration": 110,
    "start_time": "2024-07-16T06:53:19.684Z"
   },
   {
    "duration": 22,
    "start_time": "2024-07-16T06:53:21.787Z"
   },
   {
    "duration": 18,
    "start_time": "2024-07-16T06:53:38.977Z"
   },
   {
    "duration": 1767,
    "start_time": "2024-07-16T06:53:43.930Z"
   },
   {
    "duration": 53,
    "start_time": "2024-07-16T06:53:45.700Z"
   },
   {
    "duration": 21,
    "start_time": "2024-07-16T06:53:45.756Z"
   },
   {
    "duration": 18,
    "start_time": "2024-07-16T06:53:45.780Z"
   },
   {
    "duration": 31,
    "start_time": "2024-07-16T06:53:45.831Z"
   },
   {
    "duration": 18,
    "start_time": "2024-07-16T06:53:45.865Z"
   },
   {
    "duration": 419,
    "start_time": "2024-07-16T06:53:45.886Z"
   },
   {
    "duration": 413,
    "start_time": "2024-07-16T06:53:46.308Z"
   },
   {
    "duration": 207,
    "start_time": "2024-07-16T06:53:46.723Z"
   },
   {
    "duration": 37,
    "start_time": "2024-07-16T06:53:46.934Z"
   },
   {
    "duration": 6,
    "start_time": "2024-07-16T06:53:46.973Z"
   },
   {
    "duration": 50,
    "start_time": "2024-07-16T06:53:46.983Z"
   },
   {
    "duration": 19,
    "start_time": "2024-07-16T06:53:47.037Z"
   },
   {
    "duration": 423,
    "start_time": "2024-07-16T06:53:47.063Z"
   },
   {
    "duration": 45,
    "start_time": "2024-07-16T06:53:47.489Z"
   },
   {
    "duration": 719,
    "start_time": "2024-07-16T06:53:47.538Z"
   },
   {
    "duration": 806,
    "start_time": "2024-07-16T06:53:48.261Z"
   },
   {
    "duration": 29,
    "start_time": "2024-07-16T06:53:49.071Z"
   },
   {
    "duration": 1043,
    "start_time": "2024-07-16T06:53:49.103Z"
   },
   {
    "duration": 18,
    "start_time": "2024-07-16T06:53:50.150Z"
   },
   {
    "duration": 16,
    "start_time": "2024-07-16T06:53:50.171Z"
   },
   {
    "duration": 549,
    "start_time": "2024-07-16T06:53:50.190Z"
   },
   {
    "duration": 0,
    "start_time": "2024-07-16T06:53:50.742Z"
   },
   {
    "duration": 0,
    "start_time": "2024-07-16T06:53:50.744Z"
   },
   {
    "duration": 0,
    "start_time": "2024-07-16T06:53:50.746Z"
   },
   {
    "duration": 1835,
    "start_time": "2024-07-16T06:54:11.316Z"
   },
   {
    "duration": 44,
    "start_time": "2024-07-16T06:54:13.159Z"
   },
   {
    "duration": 28,
    "start_time": "2024-07-16T06:54:13.206Z"
   },
   {
    "duration": 21,
    "start_time": "2024-07-16T06:54:13.237Z"
   },
   {
    "duration": 28,
    "start_time": "2024-07-16T06:54:13.264Z"
   },
   {
    "duration": 49,
    "start_time": "2024-07-16T06:54:13.295Z"
   },
   {
    "duration": 446,
    "start_time": "2024-07-16T06:54:13.347Z"
   },
   {
    "duration": 394,
    "start_time": "2024-07-16T06:54:13.796Z"
   },
   {
    "duration": 201,
    "start_time": "2024-07-16T06:54:14.193Z"
   },
   {
    "duration": 63,
    "start_time": "2024-07-16T06:54:14.398Z"
   },
   {
    "duration": 5,
    "start_time": "2024-07-16T06:54:14.465Z"
   },
   {
    "duration": 24,
    "start_time": "2024-07-16T06:54:14.475Z"
   },
   {
    "duration": 47,
    "start_time": "2024-07-16T06:54:14.501Z"
   },
   {
    "duration": 484,
    "start_time": "2024-07-16T06:54:14.554Z"
   },
   {
    "duration": 36,
    "start_time": "2024-07-16T06:54:15.041Z"
   },
   {
    "duration": 749,
    "start_time": "2024-07-16T06:54:15.081Z"
   },
   {
    "duration": 745,
    "start_time": "2024-07-16T06:54:15.834Z"
   },
   {
    "duration": 26,
    "start_time": "2024-07-16T06:54:16.583Z"
   },
   {
    "duration": 1024,
    "start_time": "2024-07-16T06:54:16.613Z"
   },
   {
    "duration": 20,
    "start_time": "2024-07-16T06:54:17.640Z"
   },
   {
    "duration": 558,
    "start_time": "2024-07-16T06:54:50.641Z"
   },
   {
    "duration": 16,
    "start_time": "2024-07-16T06:55:23.220Z"
   },
   {
    "duration": 4,
    "start_time": "2024-07-16T06:55:24.412Z"
   },
   {
    "duration": 273,
    "start_time": "2024-07-16T06:55:25.830Z"
   },
   {
    "duration": 126,
    "start_time": "2024-07-16T06:55:32.750Z"
   },
   {
    "duration": 10,
    "start_time": "2024-07-16T06:55:41.648Z"
   },
   {
    "duration": 4,
    "start_time": "2024-07-16T06:55:44.078Z"
   },
   {
    "duration": 92,
    "start_time": "2024-07-16T06:55:46.227Z"
   },
   {
    "duration": 10,
    "start_time": "2024-07-16T06:56:14.232Z"
   },
   {
    "duration": 4,
    "start_time": "2024-07-16T06:56:15.648Z"
   },
   {
    "duration": 96,
    "start_time": "2024-07-16T06:56:17.053Z"
   },
   {
    "duration": 7,
    "start_time": "2024-07-16T06:58:02.853Z"
   },
   {
    "duration": 9,
    "start_time": "2024-07-16T06:58:13.763Z"
   },
   {
    "duration": 11,
    "start_time": "2024-07-16T06:59:18.465Z"
   },
   {
    "duration": 138,
    "start_time": "2024-07-16T06:59:20.524Z"
   },
   {
    "duration": 11,
    "start_time": "2024-07-16T06:59:22.955Z"
   },
   {
    "duration": 9,
    "start_time": "2024-07-16T06:59:24.173Z"
   },
   {
    "duration": 134,
    "start_time": "2024-07-16T06:59:26.630Z"
   },
   {
    "duration": 13,
    "start_time": "2024-07-16T06:59:29.998Z"
   },
   {
    "duration": 11,
    "start_time": "2024-07-16T06:59:31.616Z"
   },
   {
    "duration": 8,
    "start_time": "2024-07-16T06:59:58.798Z"
   },
   {
    "duration": 7,
    "start_time": "2024-07-16T07:00:00.461Z"
   },
   {
    "duration": 133,
    "start_time": "2024-07-16T07:00:07.483Z"
   },
   {
    "duration": 5,
    "start_time": "2024-07-16T07:02:05.700Z"
   },
   {
    "duration": 10,
    "start_time": "2024-07-16T07:07:49.866Z"
   },
   {
    "duration": 5,
    "start_time": "2024-07-16T07:07:51.182Z"
   },
   {
    "duration": 6,
    "start_time": "2024-07-16T07:07:52.948Z"
   },
   {
    "duration": 5,
    "start_time": "2024-07-16T07:08:10.567Z"
   },
   {
    "duration": 5,
    "start_time": "2024-07-16T07:08:12.098Z"
   },
   {
    "duration": 5,
    "start_time": "2024-07-16T07:08:17.013Z"
   },
   {
    "duration": 1738,
    "start_time": "2024-07-16T07:08:22.171Z"
   },
   {
    "duration": 36,
    "start_time": "2024-07-16T07:08:23.913Z"
   },
   {
    "duration": 22,
    "start_time": "2024-07-16T07:08:23.952Z"
   },
   {
    "duration": 19,
    "start_time": "2024-07-16T07:08:23.976Z"
   },
   {
    "duration": 30,
    "start_time": "2024-07-16T07:08:24.031Z"
   },
   {
    "duration": 19,
    "start_time": "2024-07-16T07:08:24.064Z"
   },
   {
    "duration": 528,
    "start_time": "2024-07-16T07:08:24.086Z"
   },
   {
    "duration": 387,
    "start_time": "2024-07-16T07:08:24.617Z"
   },
   {
    "duration": 198,
    "start_time": "2024-07-16T07:08:25.007Z"
   },
   {
    "duration": 56,
    "start_time": "2024-07-16T07:08:25.211Z"
   },
   {
    "duration": 5,
    "start_time": "2024-07-16T07:08:25.270Z"
   },
   {
    "duration": 30,
    "start_time": "2024-07-16T07:08:25.278Z"
   },
   {
    "duration": 41,
    "start_time": "2024-07-16T07:08:25.311Z"
   },
   {
    "duration": 441,
    "start_time": "2024-07-16T07:08:25.359Z"
   },
   {
    "duration": 57,
    "start_time": "2024-07-16T07:08:25.806Z"
   },
   {
    "duration": 488,
    "start_time": "2024-07-16T07:08:25.866Z"
   },
   {
    "duration": 722,
    "start_time": "2024-07-16T07:08:26.357Z"
   },
   {
    "duration": 24,
    "start_time": "2024-07-16T07:08:27.082Z"
   },
   {
    "duration": 1015,
    "start_time": "2024-07-16T07:08:27.109Z"
   },
   {
    "duration": 21,
    "start_time": "2024-07-16T07:08:28.131Z"
   },
   {
    "duration": 12,
    "start_time": "2024-07-16T07:08:28.155Z"
   },
   {
    "duration": 5,
    "start_time": "2024-07-16T07:08:28.170Z"
   },
   {
    "duration": 5,
    "start_time": "2024-07-16T07:08:28.178Z"
   },
   {
    "duration": 15,
    "start_time": "2024-07-16T07:08:52.002Z"
   },
   {
    "duration": 9,
    "start_time": "2024-07-16T07:09:38.421Z"
   },
   {
    "duration": 4,
    "start_time": "2024-07-16T07:09:39.578Z"
   },
   {
    "duration": 7,
    "start_time": "2024-07-16T07:09:39.971Z"
   },
   {
    "duration": 6,
    "start_time": "2024-07-16T07:11:54.851Z"
   },
   {
    "duration": 8,
    "start_time": "2024-07-16T07:12:00.028Z"
   },
   {
    "duration": 7,
    "start_time": "2024-07-16T07:12:02.288Z"
   },
   {
    "duration": 7,
    "start_time": "2024-07-16T07:12:07.214Z"
   },
   {
    "duration": 10,
    "start_time": "2024-07-16T07:14:11.992Z"
   },
   {
    "duration": 6,
    "start_time": "2024-07-16T07:14:13.239Z"
   },
   {
    "duration": 8,
    "start_time": "2024-07-16T07:14:13.420Z"
   },
   {
    "duration": 19,
    "start_time": "2024-07-16T07:15:13.130Z"
   },
   {
    "duration": 12,
    "start_time": "2024-07-16T07:15:22.665Z"
   },
   {
    "duration": 5,
    "start_time": "2024-07-16T07:15:23.452Z"
   },
   {
    "duration": 9,
    "start_time": "2024-07-16T07:15:23.846Z"
   },
   {
    "duration": 10,
    "start_time": "2024-07-16T07:15:27.704Z"
   },
   {
    "duration": 8,
    "start_time": "2024-07-16T07:17:58.087Z"
   },
   {
    "duration": 3,
    "start_time": "2024-07-16T07:17:59.303Z"
   },
   {
    "duration": 12,
    "start_time": "2024-07-16T07:18:00.473Z"
   },
   {
    "duration": 8,
    "start_time": "2024-07-16T07:18:11.690Z"
   },
   {
    "duration": 11,
    "start_time": "2024-07-16T07:18:14.199Z"
   },
   {
    "duration": 8,
    "start_time": "2024-07-16T07:18:22.918Z"
   },
   {
    "duration": 7,
    "start_time": "2024-07-16T07:18:25.259Z"
   },
   {
    "duration": 7,
    "start_time": "2024-07-16T07:18:31.703Z"
   },
   {
    "duration": 7,
    "start_time": "2024-07-16T07:18:34.942Z"
   },
   {
    "duration": 11,
    "start_time": "2024-07-16T07:18:36.979Z"
   },
   {
    "duration": 6,
    "start_time": "2024-07-16T07:18:54.846Z"
   },
   {
    "duration": 9,
    "start_time": "2024-07-16T07:18:56.624Z"
   },
   {
    "duration": 4,
    "start_time": "2024-07-16T07:18:57.478Z"
   },
   {
    "duration": 6,
    "start_time": "2024-07-16T07:18:57.904Z"
   },
   {
    "duration": 1765,
    "start_time": "2024-07-16T07:19:22.726Z"
   },
   {
    "duration": 36,
    "start_time": "2024-07-16T07:19:24.495Z"
   },
   {
    "duration": 22,
    "start_time": "2024-07-16T07:19:24.534Z"
   },
   {
    "duration": 19,
    "start_time": "2024-07-16T07:19:24.560Z"
   },
   {
    "duration": 58,
    "start_time": "2024-07-16T07:19:24.584Z"
   },
   {
    "duration": 16,
    "start_time": "2024-07-16T07:19:24.645Z"
   },
   {
    "duration": 435,
    "start_time": "2024-07-16T07:19:24.664Z"
   },
   {
    "duration": 391,
    "start_time": "2024-07-16T07:19:25.102Z"
   },
   {
    "duration": 205,
    "start_time": "2024-07-16T07:19:25.497Z"
   },
   {
    "duration": 42,
    "start_time": "2024-07-16T07:19:25.706Z"
   },
   {
    "duration": 4,
    "start_time": "2024-07-16T07:19:25.751Z"
   },
   {
    "duration": 25,
    "start_time": "2024-07-16T07:19:25.758Z"
   },
   {
    "duration": 52,
    "start_time": "2024-07-16T07:19:25.787Z"
   },
   {
    "duration": 381,
    "start_time": "2024-07-16T07:19:25.845Z"
   },
   {
    "duration": 36,
    "start_time": "2024-07-16T07:19:26.231Z"
   },
   {
    "duration": 374,
    "start_time": "2024-07-16T07:19:26.271Z"
   },
   {
    "duration": 840,
    "start_time": "2024-07-16T07:19:26.651Z"
   },
   {
    "duration": 28,
    "start_time": "2024-07-16T07:19:27.494Z"
   },
   {
    "duration": 1042,
    "start_time": "2024-07-16T07:19:27.525Z"
   },
   {
    "duration": 20,
    "start_time": "2024-07-16T07:19:28.570Z"
   },
   {
    "duration": 7,
    "start_time": "2024-07-16T07:19:28.594Z"
   },
   {
    "duration": 29,
    "start_time": "2024-07-16T07:19:28.604Z"
   },
   {
    "duration": 6,
    "start_time": "2024-07-16T07:19:28.636Z"
   },
   {
    "duration": 22,
    "start_time": "2024-07-16T07:20:08.546Z"
   },
   {
    "duration": 10,
    "start_time": "2024-07-16T07:20:11.065Z"
   },
   {
    "duration": 4,
    "start_time": "2024-07-16T07:20:12.448Z"
   },
   {
    "duration": 6,
    "start_time": "2024-07-16T07:20:13.234Z"
   },
   {
    "duration": 9,
    "start_time": "2024-07-16T07:20:18.311Z"
   },
   {
    "duration": 7,
    "start_time": "2024-07-16T07:20:19.467Z"
   },
   {
    "duration": 4,
    "start_time": "2024-07-16T07:20:21.572Z"
   },
   {
    "duration": 6,
    "start_time": "2024-07-16T07:20:22.606Z"
   },
   {
    "duration": 7,
    "start_time": "2024-07-16T07:20:23.665Z"
   },
   {
    "duration": 1708,
    "start_time": "2024-07-16T07:20:32.872Z"
   },
   {
    "duration": 48,
    "start_time": "2024-07-16T07:20:34.584Z"
   },
   {
    "duration": 22,
    "start_time": "2024-07-16T07:20:34.636Z"
   },
   {
    "duration": 25,
    "start_time": "2024-07-16T07:20:34.662Z"
   },
   {
    "duration": 66,
    "start_time": "2024-07-16T07:20:34.692Z"
   },
   {
    "duration": 19,
    "start_time": "2024-07-16T07:20:34.762Z"
   },
   {
    "duration": 426,
    "start_time": "2024-07-16T07:20:34.785Z"
   },
   {
    "duration": 386,
    "start_time": "2024-07-16T07:20:35.214Z"
   },
   {
    "duration": 226,
    "start_time": "2024-07-16T07:20:35.607Z"
   },
   {
    "duration": 47,
    "start_time": "2024-07-16T07:20:35.839Z"
   },
   {
    "duration": 6,
    "start_time": "2024-07-16T07:20:35.891Z"
   },
   {
    "duration": 40,
    "start_time": "2024-07-16T07:20:35.902Z"
   },
   {
    "duration": 25,
    "start_time": "2024-07-16T07:20:35.946Z"
   },
   {
    "duration": 412,
    "start_time": "2024-07-16T07:20:35.977Z"
   },
   {
    "duration": 50,
    "start_time": "2024-07-16T07:20:36.393Z"
   },
   {
    "duration": 787,
    "start_time": "2024-07-16T07:20:36.445Z"
   },
   {
    "duration": 787,
    "start_time": "2024-07-16T07:20:37.235Z"
   },
   {
    "duration": 36,
    "start_time": "2024-07-16T07:20:38.025Z"
   },
   {
    "duration": 1034,
    "start_time": "2024-07-16T07:20:38.064Z"
   },
   {
    "duration": 35,
    "start_time": "2024-07-16T07:20:39.101Z"
   },
   {
    "duration": 9,
    "start_time": "2024-07-16T07:20:39.139Z"
   },
   {
    "duration": 7,
    "start_time": "2024-07-16T07:20:39.152Z"
   },
   {
    "duration": 7,
    "start_time": "2024-07-16T07:20:46.664Z"
   },
   {
    "duration": 7,
    "start_time": "2024-07-16T07:20:48.023Z"
   },
   {
    "duration": 6,
    "start_time": "2024-07-16T07:20:50.419Z"
   },
   {
    "duration": 7,
    "start_time": "2024-07-16T07:21:07.085Z"
   },
   {
    "duration": 9,
    "start_time": "2024-07-16T07:21:08.486Z"
   },
   {
    "duration": 41,
    "start_time": "2024-07-16T07:41:28.014Z"
   },
   {
    "duration": 34,
    "start_time": "2024-07-16T07:41:42.717Z"
   },
   {
    "duration": 33,
    "start_time": "2024-07-16T07:41:45.383Z"
   },
   {
    "duration": 7,
    "start_time": "2024-07-16T07:42:00.811Z"
   },
   {
    "duration": 36,
    "start_time": "2024-07-16T07:42:03.148Z"
   },
   {
    "duration": 462,
    "start_time": "2024-07-16T07:42:06.096Z"
   },
   {
    "duration": 1758,
    "start_time": "2024-07-16T07:42:13.027Z"
   },
   {
    "duration": 32,
    "start_time": "2024-07-16T07:42:14.789Z"
   },
   {
    "duration": 20,
    "start_time": "2024-07-16T07:42:14.831Z"
   },
   {
    "duration": 19,
    "start_time": "2024-07-16T07:42:14.855Z"
   },
   {
    "duration": 68,
    "start_time": "2024-07-16T07:42:14.877Z"
   },
   {
    "duration": 19,
    "start_time": "2024-07-16T07:42:14.949Z"
   },
   {
    "duration": 439,
    "start_time": "2024-07-16T07:42:14.971Z"
   },
   {
    "duration": 381,
    "start_time": "2024-07-16T07:42:15.413Z"
   },
   {
    "duration": 214,
    "start_time": "2024-07-16T07:42:15.799Z"
   },
   {
    "duration": 66,
    "start_time": "2024-07-16T07:42:16.019Z"
   },
   {
    "duration": 5,
    "start_time": "2024-07-16T07:42:16.088Z"
   },
   {
    "duration": 45,
    "start_time": "2024-07-16T07:42:16.096Z"
   },
   {
    "duration": 21,
    "start_time": "2024-07-16T07:42:16.144Z"
   },
   {
    "duration": 440,
    "start_time": "2024-07-16T07:42:16.168Z"
   },
   {
    "duration": 53,
    "start_time": "2024-07-16T07:42:16.611Z"
   },
   {
    "duration": 464,
    "start_time": "2024-07-16T07:42:16.667Z"
   },
   {
    "duration": 650,
    "start_time": "2024-07-16T07:42:17.133Z"
   },
   {
    "duration": 26,
    "start_time": "2024-07-16T07:42:17.787Z"
   },
   {
    "duration": 1019,
    "start_time": "2024-07-16T07:42:17.816Z"
   },
   {
    "duration": 21,
    "start_time": "2024-07-16T07:42:18.840Z"
   },
   {
    "duration": 9,
    "start_time": "2024-07-16T07:42:18.864Z"
   },
   {
    "duration": 7,
    "start_time": "2024-07-16T07:42:18.878Z"
   },
   {
    "duration": 28,
    "start_time": "2024-07-16T07:42:55.168Z"
   },
   {
    "duration": 35,
    "start_time": "2024-07-16T07:49:46.322Z"
   },
   {
    "duration": 312,
    "start_time": "2024-07-16T23:55:43.077Z"
   },
   {
    "duration": 5794,
    "start_time": "2024-07-16T23:55:55.426Z"
   },
   {
    "duration": 32,
    "start_time": "2024-07-16T23:56:01.224Z"
   },
   {
    "duration": 19,
    "start_time": "2024-07-16T23:56:01.260Z"
   },
   {
    "duration": 44,
    "start_time": "2024-07-16T23:56:01.281Z"
   },
   {
    "duration": 28,
    "start_time": "2024-07-16T23:56:01.330Z"
   },
   {
    "duration": 47,
    "start_time": "2024-07-16T23:56:01.361Z"
   },
   {
    "duration": 487,
    "start_time": "2024-07-16T23:56:01.412Z"
   },
   {
    "duration": 387,
    "start_time": "2024-07-16T23:56:01.905Z"
   },
   {
    "duration": 207,
    "start_time": "2024-07-16T23:56:02.295Z"
   },
   {
    "duration": 40,
    "start_time": "2024-07-16T23:56:02.505Z"
   },
   {
    "duration": 26,
    "start_time": "2024-07-16T23:56:02.548Z"
   },
   {
    "duration": 46,
    "start_time": "2024-07-16T23:56:02.577Z"
   },
   {
    "duration": 405,
    "start_time": "2024-07-16T23:56:02.626Z"
   },
   {
    "duration": 37,
    "start_time": "2024-07-16T23:56:03.038Z"
   },
   {
    "duration": 531,
    "start_time": "2024-07-16T23:56:03.078Z"
   },
   {
    "duration": 786,
    "start_time": "2024-07-16T23:56:03.611Z"
   },
   {
    "duration": 25,
    "start_time": "2024-07-16T23:56:04.400Z"
   },
   {
    "duration": 1085,
    "start_time": "2024-07-16T23:56:04.428Z"
   },
   {
    "duration": 20,
    "start_time": "2024-07-16T23:56:05.518Z"
   },
   {
    "duration": 9,
    "start_time": "2024-07-16T23:56:05.541Z"
   },
   {
    "duration": 7,
    "start_time": "2024-07-16T23:56:05.553Z"
   },
   {
    "duration": 1740,
    "start_time": "2024-07-17T00:50:11.070Z"
   },
   {
    "duration": 34,
    "start_time": "2024-07-17T00:50:12.817Z"
   },
   {
    "duration": 21,
    "start_time": "2024-07-17T00:50:12.854Z"
   },
   {
    "duration": 44,
    "start_time": "2024-07-17T00:50:12.880Z"
   },
   {
    "duration": 29,
    "start_time": "2024-07-17T00:50:12.927Z"
   },
   {
    "duration": 54,
    "start_time": "2024-07-17T00:50:12.960Z"
   },
   {
    "duration": 407,
    "start_time": "2024-07-17T00:50:13.018Z"
   },
   {
    "duration": 401,
    "start_time": "2024-07-17T00:50:13.429Z"
   },
   {
    "duration": 237,
    "start_time": "2024-07-17T00:50:13.833Z"
   },
   {
    "duration": 49,
    "start_time": "2024-07-17T00:50:14.076Z"
   },
   {
    "duration": 28,
    "start_time": "2024-07-17T00:50:14.129Z"
   },
   {
    "duration": 18,
    "start_time": "2024-07-17T00:50:14.160Z"
   },
   {
    "duration": 381,
    "start_time": "2024-07-17T00:50:14.208Z"
   },
   {
    "duration": 49,
    "start_time": "2024-07-17T00:50:14.592Z"
   },
   {
    "duration": 478,
    "start_time": "2024-07-17T00:50:14.643Z"
   },
   {
    "duration": 749,
    "start_time": "2024-07-17T00:50:15.124Z"
   },
   {
    "duration": 27,
    "start_time": "2024-07-17T00:50:15.877Z"
   },
   {
    "duration": 1078,
    "start_time": "2024-07-17T00:50:15.909Z"
   },
   {
    "duration": 28,
    "start_time": "2024-07-17T00:50:16.990Z"
   },
   {
    "duration": 8,
    "start_time": "2024-07-17T00:50:17.021Z"
   },
   {
    "duration": 7,
    "start_time": "2024-07-17T00:50:17.032Z"
   },
   {
    "duration": 2088,
    "start_time": "2024-07-17T00:55:18.878Z"
   },
   {
    "duration": 40,
    "start_time": "2024-07-17T00:55:20.970Z"
   },
   {
    "duration": 33,
    "start_time": "2024-07-17T00:55:21.015Z"
   },
   {
    "duration": 56,
    "start_time": "2024-07-17T00:55:21.054Z"
   },
   {
    "duration": 43,
    "start_time": "2024-07-17T00:55:21.115Z"
   },
   {
    "duration": 15,
    "start_time": "2024-07-17T00:55:21.162Z"
   },
   {
    "duration": 549,
    "start_time": "2024-07-17T00:55:21.216Z"
   },
   {
    "duration": 518,
    "start_time": "2024-07-17T00:55:21.768Z"
   },
   {
    "duration": 285,
    "start_time": "2024-07-17T00:55:22.290Z"
   },
   {
    "duration": 70,
    "start_time": "2024-07-17T00:55:22.581Z"
   },
   {
    "duration": 25,
    "start_time": "2024-07-17T00:55:22.660Z"
   },
   {
    "duration": 57,
    "start_time": "2024-07-17T00:55:22.688Z"
   },
   {
    "duration": 461,
    "start_time": "2024-07-17T00:55:22.751Z"
   },
   {
    "duration": 45,
    "start_time": "2024-07-17T00:55:23.216Z"
   },
   {
    "duration": 644,
    "start_time": "2024-07-17T00:55:23.265Z"
   },
   {
    "duration": 1101,
    "start_time": "2024-07-17T00:55:23.920Z"
   },
   {
    "duration": 39,
    "start_time": "2024-07-17T00:55:25.025Z"
   },
   {
    "duration": 1168,
    "start_time": "2024-07-17T00:55:25.068Z"
   },
   {
    "duration": 23,
    "start_time": "2024-07-17T00:55:26.240Z"
   },
   {
    "duration": 8,
    "start_time": "2024-07-17T00:55:26.266Z"
   },
   {
    "duration": 36,
    "start_time": "2024-07-17T00:55:26.277Z"
   }
  ],
  "kernelspec": {
   "display_name": "Python 3 (ipykernel)",
   "language": "python",
   "name": "python3"
  },
  "language_info": {
   "codemirror_mode": {
    "name": "ipython",
    "version": 3
   },
   "file_extension": ".py",
   "mimetype": "text/x-python",
   "name": "python",
   "nbconvert_exporter": "python",
   "pygments_lexer": "ipython3",
   "version": "3.9.19"
  },
  "toc": {
   "base_numbering": 1,
   "nav_menu": {},
   "number_sections": true,
   "sideBar": true,
   "skip_h1_title": true,
   "title_cell": "Table of Contents",
   "title_sidebar": "Contents",
   "toc_cell": false,
   "toc_position": {},
   "toc_section_display": true,
   "toc_window_display": false
  }
 },
 "nbformat": 4,
 "nbformat_minor": 2
}
